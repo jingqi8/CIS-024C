{
 "cells": [
  {
   "cell_type": "markdown",
   "metadata": {},
   "source": [
    "\n",
    "# CIS024C - Spring 2018 - Monday 5:30-9:25pm \n",
    "\n",
    "## Homework 7\n",
    "\n",
    "Homework 7 covers exercises that involve Exception Handling\n",
    "\n",
    "The below sites have some interesting and useful information on working with files\n",
    "\n",
    "* Errors and Exceptions: https://docs.python.org/2/tutorial/errors.html\n",
    "* Built-in Exceptions: https://docs.python.org/2/library/exceptions.html\n",
    "\n",
    "You will need to download this notebook and use this as a starting point for your homework. You will just need to fill in the content of each code-block (cell) and execute. Once you have completed all the exercises, you will need to save and upload this to your github repository under a folder called hw7.\n",
    "\n",
    "Note also the exercises build on top of one another so you might be able to do the next exercise if you have not completed the previous exercise.\n",
    "\n",
    "Post any questions you have on our Slack at **cis-024c1.slack.com**\n",
    "\n",
    "** Slides ** for Week 7 can be found at \n",
    "\n",
    "https://docs.google.com/presentation/d/1HcWIuVciM0_L935Umi5rPgQHJYIv1bNfYnErfOelbtw/edit?usp=sharing\n",
    "\n",
    "**Please refer back to hw1 and slack for instructions on how to setup your computer for developing using Python.**"
   ]
  },
  {
   "cell_type": "markdown",
   "metadata": {},
   "source": [
    "### Helpful Jupyter Commands\n",
    "\n",
    "Below are some useful commands to know when using Jupyter\n",
    "\n",
    "1. You can add a new cell by clicking on the \"+\" icon on top.\n",
    "2. You can delete a cell by selecting that cell and clicking on the \"scissors\" icon on top.\n",
    "3. You can execute a cell by either pressing shift+enter or selecting the \"play\" button on top.\n",
    "4. You can create a new file in Jupyter via the File menu->New Notebook option. Make sure to select Python 2 when creating your notebook.\n",
    "5. Also, for your code blocks make sure that Code is selected instead of another option like Markdown.\n",
    "6. Use the Enter key to go to the next line in a cell to enter the next statement.\n",
    "7. You can clear results by clicking on the Cell menu item and selecting Current Output->Clear or All Output->Clear depending on whether you are trying to just clear the output for one cell or for all cells.\n",
    "8. In case your program has crashed for some reason (infinite loop, for example), you can restart your Python session by select Kernel in the menu and selecting Restart.\n"
   ]
  },
  {
   "cell_type": "markdown",
   "metadata": {},
   "source": [
    "#### Check Python Version"
   ]
  },
  {
   "cell_type": "code",
   "execution_count": 1,
   "metadata": {},
   "outputs": [
    {
     "name": "stdout",
     "output_type": "stream",
     "text": [
      "Python 2.7.12 :: Continuum Analytics, Inc.\r\n"
     ]
    }
   ],
   "source": [
    "!python --version"
   ]
  },
  {
   "cell_type": "markdown",
   "metadata": {},
   "source": [
    "#### Sample Exercises with Exception Handling\n",
    "\n",
    "Week 7 Class Work can be found here https://github.com/cis024c/spring2018classwork/blob/master/week7/week7_classwork.ipynb"
   ]
  },
  {
   "cell_type": "markdown",
   "metadata": {},
   "source": [
    "**Exercise 1 - Testing your knowledge of Exceptions **\n",
    "\n",
    "Answer the below questions\n",
    "\n",
    "1. What is the difference between a Syntax Error and a Runtime Error?\n",
    "2. Are exceptions Syntax Errors or Runtime Errors?\n",
    "3. How do exceptions help a programmer?\n",
    "4. Which exception is raised when the user tries to use a variable that has not been defined?"
   ]
  },
  {
   "cell_type": "markdown",
   "metadata": {},
   "source": [
    "1. Syntax Error makes the program unexecutable. We have to correct the error before running it. But Runtime Error occurs during the program execution under certain circumstance. It's dynamic error and cannot be detected during compiling.\n",
    "\n",
    "2. Exceptions are Runtime Error.\n",
    "\n",
    "3. Handling Exception is an effective ways of dealing with exceptional conditions. They decouple the detection and handling of these conditions and automate the propagation of the exception from the point of detection to the point of handling. As a result, the code can be much cleaner, easier to write correctly, and easier to maintain.\n",
    "\n",
    "4. NameError will be raised when useing a variable that has not been defined."
   ]
  },
  {
   "cell_type": "markdown",
   "metadata": {},
   "source": [
    "#### Exercise 2 -  Raising Exceptions\n",
    "\n",
    "Write python programs that raise the following exceptions.\n",
    "\n",
    "1. ValueError\n",
    "2. TypeError\n",
    "3. IndexError\n",
    "4. KeyError"
   ]
  },
  {
   "cell_type": "code",
   "execution_count": 19,
   "metadata": {},
   "outputs": [
    {
     "name": "stdout",
     "output_type": "stream",
     "text": [
      "---------------------------\n",
      "Enter an Integer:abc\n",
      "Oops - ValueError\n",
      "---------------------------\n",
      "Enter an Integer:23\n",
      "Oops - TypeError\n",
      "---------------------------\n",
      "1\n",
      "2\n",
      "3\n",
      "Oops - IndexError\n",
      "---------------------------\n",
      "1\n",
      "Oops - KeyError\n"
     ]
    }
   ],
   "source": [
    "### YOUR CODE GOES \n",
    "\n",
    "# ValueError\n",
    "print \"---------------------------\"\n",
    "try:\n",
    "    x1 = raw_input(\"Enter an Integer:\")\n",
    "    x1 = int(x1)\n",
    "    print x1\n",
    "except ValueError:\n",
    "    print \"Oops - ValueError\"\n",
    "    \n",
    "# TypeError\n",
    "print \"---------------------------\"\n",
    "try:\n",
    "    x2 = raw_input(\"Enter an Integer:\")\n",
    "    x2 = x2 + 3\n",
    "    print x2\n",
    "except TypeError:\n",
    "    print \"Oops - TypeError\"\n",
    "\n",
    "# IndexError\n",
    "print \"---------------------------\"\n",
    "x3 = [1, 2, 3]\n",
    "try:\n",
    "    for i in range(len(x3)+1):\n",
    "        print x3[i]\n",
    "except IndexError:\n",
    "    print \"Oops - IndexError\"\n",
    "\n",
    "# KeyError\n",
    "print \"---------------------------\"\n",
    "x4 = {\"A\":1, \"B\":2}\n",
    "try:\n",
    "    print x4[\"A\"]\n",
    "    print x4[\"C\"]\n",
    "except KeyError:\n",
    "    print \"Oops - KeyError\"\n",
    "    \n",
    "### END CODE"
   ]
  },
  {
   "cell_type": "markdown",
   "metadata": {},
   "source": [
    "#### Exercise 3 - Handling Exceptions\n",
    "\n",
    "Write a Python program that asks the user to enter a GPA (integer values - 0,1,2,3 or 4). Convert the input from the user into an integer. Write an exception handler to handle the ValueError exception and display the message \"ValueError occurred. Please try again\". If the value entered by the user is not compatible with integer values the program will raise a ValueError exception and display the message from within the exception handler."
   ]
  },
  {
   "cell_type": "code",
   "execution_count": 40,
   "metadata": {},
   "outputs": [
    {
     "name": "stdout",
     "output_type": "stream",
     "text": [
      "Please Enter GPA(Integer values - 0,1,2,3 or 4):S3\n",
      "ValueError occurred. Please try again\n"
     ]
    }
   ],
   "source": [
    "### YOUR CODE GOES BELOW\n",
    "\n",
    "input_gpa = raw_input(\"Please Enter GPA(Integer values - 0,1,2,3 or 4):\")\n",
    "try:\n",
    "    gpa = int(input_gpa)\n",
    "    if gpa not in (0, 1, 2, 3, 4):\n",
    "        raise ValueError\n",
    "except ValueError:\n",
    "    print \"ValueError occurred. Please try again\"    \n",
    "\n",
    "       \n",
    "### END CODE"
   ]
  },
  {
   "cell_type": "markdown",
   "metadata": {},
   "source": [
    "#### Exercise 4 - Displaying the error description in an Exception\n",
    "\n",
    "Create a list of **5** items in a grocery cart. For example, your list can be something like the below\n",
    "\n",
    "**Example of a list with 2 items:**\n",
    "groceryList = [\"suger\",\"rice\"]\n",
    "\n",
    "Write an exception handler to handle an IndexError exceptio and store the details of the exception in a variable called **details**. If the exception occurs, print out a message saying \"Exception Occurred\" along with the details (from **details** variable). \n",
    "\n",
    "In your program attempt to access the 6th item in the list. \n",
    "\n",
    "Since there are only 5 elements, the exception handler should be triggered and the message printed inside the exception should be printed."
   ]
  },
  {
   "cell_type": "code",
   "execution_count": 36,
   "metadata": {},
   "outputs": [
    {
     "name": "stdout",
     "output_type": "stream",
     "text": [
      "Grocery - 0: suger\n",
      "Grocery - 1: rice\n",
      "Grocery - 2: pepper\n",
      "Grocery - 3: Soy Sause\n",
      "Grocery - 4: salt\n",
      "Oops! Exception Occurred: list index out of range\n"
     ]
    }
   ],
   "source": [
    "### YOUR CODE GOES BELOW\n",
    "groceryList = [\"suger\",\"rice\",\"pepper\",\"Soy Sause\",\"salt\"]\n",
    "\n",
    "try:\n",
    "    for i in range(0, len(groceryList)+1):\n",
    "        print \"Grocery - %s: %s\" % (i, groceryList[i])\n",
    "except Exception as details:\n",
    "    print \"Oops! Exception Occurred:\", details\n",
    "\n",
    "### END CODE"
   ]
  },
  {
   "cell_type": "markdown",
   "metadata": {},
   "source": [
    "#### Exercise 5 - Using loops to wait for a user to enter a valid value\n",
    "\n",
    "**This is a partial repeat of problem 1. You should be able to reuse that code**\n",
    "\n",
    "Write a Python program that asks the user to enter a GPA (integer values - 0,1,2,3 or 4). Convert the input from the user into an integer. Write an exception handler to handle the ValueError exception and display the message \"ValueError occurred. Please try again\". If the value entered by the user is not compatible with integer values the program will raise a ValueError exception and display the message from within the exception handler.\n",
    "\n",
    "Place the above code to get user input inside a **while** loop. As long as the user is entering an invalid numeric value, the program should **continue** to prompt the user to enter the GPA. When the user enters a correct value, the program should **break** out of the while loop and print the GPA.\n",
    "\n",
    "**Please see classwork for similar examples**"
   ]
  },
  {
   "cell_type": "code",
   "execution_count": 41,
   "metadata": {},
   "outputs": [
    {
     "name": "stdout",
     "output_type": "stream",
     "text": [
      "Please Enter GPA(Integer values - 0,1,2,3 or 4):S3\n",
      "ValueError occurred. Please try again\n",
      "Please Enter GPA(Integer values - 0,1,2,3 or 4):12\n",
      "ValueError occurred. Please try again\n",
      "Please Enter GPA(Integer values - 0,1,2,3 or 4):-1\n",
      "ValueError occurred. Please try again\n",
      "Please Enter GPA(Integer values - 0,1,2,3 or 4):3\n",
      "Good job, you input GPA:  3\n"
     ]
    }
   ],
   "source": [
    "### YOUR CODE GOES BELOW\n",
    "\n",
    "while True:\n",
    "    input_gpa = raw_input(\"Please Enter GPA(Integer values - 0,1,2,3 or 4):\")\n",
    "    try:\n",
    "        gpa = int(input_gpa)\n",
    "        if gpa not in (0, 1, 2, 3, 4):\n",
    "            raise ValueError\n",
    "        break\n",
    "    except ValueError:\n",
    "        print \"ValueError occurred. Please try again\"    \n",
    "\n",
    "print \"Good job, you input GPA: \", gpa\n",
    "\n",
    "### END CODE"
   ]
  },
  {
   "cell_type": "markdown",
   "metadata": {},
   "source": [
    "## OPTIONAL EXERCISES\n",
    "\n",
    "Below is a set of optional exercises. These will not be graded but the solutions will be posted. I would strongly encourage you to try these out if you are done with the mandatory homework exercises to improve your understanding of python."
   ]
  },
  {
   "cell_type": "markdown",
   "metadata": {},
   "source": [
    "#### Exercise 6\n",
    "\n",
    "Write a python program to build a simple chatbot. The chatbot will accept input from the user, check the input against a dictionary and display the corresponding value. \n",
    "\n",
    "Below is the dictionary that the chatbot will use.\n",
    "\n",
    "```\n",
    "conversationsDict = {\n",
    "'how are you':'I am fine, thank you.How are you today',\n",
    "'i am well':'Cool! How can I help you today',\n",
    "'can you tell me what the weather is like today':'Sure. It looks mostly sunny with a high of 80 degrees',\n",
    "'thank you very much':'You are welcome. Have a nice day'\n",
    "}\n",
    "```\n",
    "\n",
    "Note that the dictionary **key** is the value entered by the user and the **value** is the response from the chatbot. The chatbot must use the user input to look up the dictionary for a response. If a response is found, then the chatbot must print the response. If the key is Invalid, then a KeyError exception handler must handle the exception displaying the messsage \"Sorry, I did not get that\". It must then allow the user to repeat the question."
   ]
  },
  {
   "cell_type": "code",
   "execution_count": 1,
   "metadata": {},
   "outputs": [
    {
     "name": "stdout",
     "output_type": "stream",
     "text": [
      "Let's Chat ('Stop' to Exit) ----> how are you\n",
      "I am fine, thank you.How are you today\n",
      "Let's Chat ('Stop' to Exit) ----> thank you very much\n",
      "You are welcome. Have a nice day\n",
      "Let's Chat ('Stop' to Exit) ----> really\n",
      "Sorry, I did not get that\n",
      "Let's Chat ('Stop' to Exit) ----> are you crazy\n",
      "Sorry, I did not get that\n",
      "Let's Chat ('Stop' to Exit) ----> i am well\n",
      "Cool! How can I help you today\n",
      "Let's Chat ('Stop' to Exit) ----> Stop\n"
     ]
    }
   ],
   "source": [
    "### YOUR CODE GOES BELOW\n",
    "\n",
    "conversationsDict = {\n",
    "'how are you':'I am fine, thank you.How are you today',\n",
    "'i am well':'Cool! How can I help you today',\n",
    "'can you tell me what the weather is like today':'Sure. It looks mostly sunny with a high of 80 degrees',\n",
    "'thank you very much':'You are welcome. Have a nice day'\n",
    "}\n",
    "\n",
    "while True:\n",
    "    chat = raw_input(\"Let's Chat ('Stop' to Exit) ----> \")\n",
    "    try:\n",
    "        if chat.lower() == \"stop\":\n",
    "            break\n",
    "        print conversationsDict[chat]\n",
    "    except KeyError:\n",
    "        print \"Sorry, I did not get that\"     \n",
    "\n",
    "    \n",
    "### END CODE"
   ]
  },
  {
   "cell_type": "markdown",
   "metadata": {},
   "source": [
    "#### Exercise 7\n",
    "\n",
    "Write two Python  to compute the average of a list of numbers. The inputs to the function is a python **List**. The output is the average. The function must have an Exception handler to handle the **ZeroDivisionError exception**. \n",
    "\n",
    "Verify that the ZeroDivisionError handler works by passing in an empty list."
   ]
  },
  {
   "cell_type": "code",
   "execution_count": 16,
   "metadata": {},
   "outputs": [
    {
     "name": "stdout",
     "output_type": "stream",
     "text": [
      "Your input is: [1, 2, 3, 4, 5], and their Average is:\n",
      "3\n",
      "--------------------------------------------------------\n",
      "Your input is: [], and their Average is:\n",
      "Oops, your List is empty. I cannot calculate it!\n",
      "--------------------------------------------------------\n",
      "Your input is: [4, 8], and their Average is:\n",
      "6\n"
     ]
    }
   ],
   "source": [
    "### YOUR CODE GOES BELOW\n",
    "\n",
    "def avg(list1):\n",
    "    try:\n",
    "        print \"Your input is: %s, and their Average is:\" % (list1)\n",
    "        return sum(list1)/len(list1)\n",
    "    except ZeroDivisionError:\n",
    "        return \"Oops, your List is empty. I cannot calculate it!\"\n",
    "\n",
    "print avg([1,2,3,4,5])\n",
    "print \"--------------------------------------------------------\"\n",
    "print avg([])\n",
    "print \"--------------------------------------------------------\"\n",
    "print avg([4, 8])\n",
    "\n",
    "### END CODE"
   ]
  },
  {
   "cell_type": "markdown",
   "metadata": {},
   "source": [
    "#### Exercise 8\n",
    "\n",
    "Write a python program that accepts a sequence of words, some of them numbers. Attempt to perform an integer add on all the words that were entered. If a word that is not a number is encountered, use the ValueError to skip the next word. Display the resulting sum of all the numbers."
   ]
  },
  {
   "cell_type": "code",
   "execution_count": 20,
   "metadata": {},
   "outputs": [
    {
     "name": "stdout",
     "output_type": "stream",
     "text": [
      "Enter an Integer ('Stop' to exit): 1\n",
      "Enter an Integer ('Stop' to exit): s\n",
      "Sorry, You Must Enter an Ingeter. Try again\n",
      "Enter an Integer ('Stop' to exit): 2\n",
      "Enter an Integer ('Stop' to exit): yes\n",
      "Sorry, You Must Enter an Ingeter. Try again\n",
      "Enter an Integer ('Stop' to exit): ?\n",
      "Sorry, You Must Enter an Ingeter. Try again\n",
      "Enter an Integer ('Stop' to exit): 3\n",
      "Enter an Integer ('Stop' to exit): 4\n",
      "Enter an Integer ('Stop' to exit): t\n",
      "Sorry, You Must Enter an Ingeter. Try again\n",
      "Enter an Integer ('Stop' to exit): 5\n",
      "Enter an Integer ('Stop' to exit): stop\n",
      "==========================================\n",
      "The Summary of all Integers are:  15\n"
     ]
    }
   ],
   "source": [
    "### YOUR CODE GOES BELOW\n",
    "\n",
    "s = 0\n",
    "while True:\n",
    "    n = raw_input(\"Enter an Integer ('Stop' to exit): \")\n",
    "    if n.lower() == \"stop\":\n",
    "        break\n",
    "    try:\n",
    "        s = s + int(n)\n",
    "    except ValueError:\n",
    "        print \"Sorry, You Must Enter an Ingeter. Try again\"\n",
    "    \n",
    "print '=========================================='\n",
    "print \"The Summary of all Integers are: \", s\n",
    "\n",
    "### END CODE"
   ]
  },
  {
   "cell_type": "code",
   "execution_count": null,
   "metadata": {
    "collapsed": true
   },
   "outputs": [],
   "source": []
  }
 ],
 "metadata": {
  "kernelspec": {
   "display_name": "Python 2",
   "language": "python",
   "name": "python2"
  },
  "language_info": {
   "codemirror_mode": {
    "name": "ipython",
    "version": 2
   },
   "file_extension": ".py",
   "mimetype": "text/x-python",
   "name": "python",
   "nbconvert_exporter": "python",
   "pygments_lexer": "ipython2",
   "version": "2.7.14"
  }
 },
 "nbformat": 4,
 "nbformat_minor": 2
}
