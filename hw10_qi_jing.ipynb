{
 "cells": [
  {
   "cell_type": "markdown",
   "metadata": {},
   "source": [
    "\n",
    "# CIS024C - Spring 2018 - Monday 5:30-9:25pm \n",
    "\n",
    "## Homework 10\n",
    "\n",
    "Homework 10 covers object oriented programming in Python\n",
    "\n",
    "The below sites have some interesting and useful information on working with files\n",
    "\n",
    "https://drive.google.com/open?id=1OrcpXEmhvgcJxSlchIBsvmXST0lG_uKx\n",
    "http://www.tutorialspoint.com/python/python_classes_objects.htm\n",
    "\n",
    "You will need to download this notebook and use this as a starting point for your homework. You will just need to fill in the content of each code-block (cell) and execute. Once you have completed all the exercises, you will need to save and upload this to your github repository under a folder called hw10.\n",
    "\n",
    "Note also the exercises build on top of one another so you might be able to do the next exercise if you have not completed the previous exercise.\n",
    "\n",
    "Post any questions you have on our Slack at **cis-024c1.slack.com**\n",
    "\n",
    "** Slides ** for Week 10 can be found at \n",
    "\n",
    "https://docs.google.com/presentation/d/1AigvCKV1yb3PrrcT5xt3IqyAwGpv6IKMNWYUiQ2Oy6k/edit?usp=sharing\n",
    "\n",
    "**Please refer back to hw1 and slack for instructions on how to setup your computer for developing using Python.**"
   ]
  },
  {
   "cell_type": "markdown",
   "metadata": {},
   "source": [
    "### Helpful Jupyter Commands\n",
    "\n",
    "Below are some useful commands to know when using Jupyter\n",
    "\n",
    "1. You can add a new cell by clicking on the \"+\" icon on top.\n",
    "2. You can delete a cell by selecting that cell and clicking on the \"scissors\" icon on top.\n",
    "3. You can execute a cell by either pressing shift+enter or selecting the \"play\" button on top.\n",
    "4. You can create a new file in Jupyter via the File menu->New Notebook option. Make sure to select Python 2 when creating your notebook.\n",
    "5. Also, for your code blocks make sure that Code is selected instead of another option like Markdown.\n",
    "6. Use the Enter key to go to the next line in a cell to enter the next statement.\n",
    "7. You can clear results by clicking on the Cell menu item and selecting Current Output->Clear or All Output->Clear depending on whether you are trying to just clear the output for one cell or for all cells.\n",
    "8. In case your program has crashed for some reason (infinite loop, for example), you can restart your Python session by select Kernel in the menu and selecting Restart.\n"
   ]
  },
  {
   "cell_type": "markdown",
   "metadata": {},
   "source": [
    "#### Check Python Version"
   ]
  },
  {
   "cell_type": "code",
   "execution_count": 1,
   "metadata": {},
   "outputs": [
    {
     "name": "stderr",
     "output_type": "stream",
     "text": [
      "Python 2.7.14 :: Anaconda, Inc.\n"
     ]
    }
   ],
   "source": [
    "!python --version"
   ]
  },
  {
   "cell_type": "markdown",
   "metadata": {},
   "source": [
    "#### Sample Exercises with Exception Handling\n",
    "\n",
    "Week 10 Class Work can be found here\n",
    "\n",
    "https://github.com/cis024c/spring2018classwork/blob/master/week10/classwork_04162018.ipynb"
   ]
  },
  {
   "cell_type": "markdown",
   "metadata": {},
   "source": [
    "**Exercise 1 - Testing your knowledge of object oriented programming concepts **\n",
    "\n",
    "Answer the below questions\n",
    "\n",
    "1. Why do we need classes?\n",
    "2. What is encapsulation?"
   ]
  },
  {
   "cell_type": "markdown",
   "metadata": {},
   "source": [
    "1. It is logically grouped of data and functions (a.k.a methods). we try to create classes where there is a logical connection between things. Many times, classes are based on objects in the real world (like Customer or Product).\n",
    "\n",
    "2. In order to restrict access to methods and variables in Classes, Python can prevent the data from being modified by accident, and this is called encapsulation. Encapsulation gives more control over the degree of coupling in the code, and it allows a Class to change its implementation without affecting other parts of the code.\n",
    "\n"
   ]
  },
  {
   "cell_type": "markdown",
   "metadata": {},
   "source": [
    "** Exercise 2 - Class creation **\n",
    "\n",
    "Create a Python class named **Employee** with the following attributes and methods\n",
    "\n",
    "Data members\n",
    "```\n",
    "1. employeeName  - type string\n",
    "2. employeeAge  - type int\n",
    "3. employeeSalary - type float\n",
    "```\n",
    "\n",
    "Methods:\n",
    "```\n",
    "1. getEmployee - returns employee name\n",
    "2. getEmployeeAge - gets the employee age\n",
    "3. getEmployeeSalary - returns the employee salary\n",
    "4. __init__ - initialize method accepts the name, age and salary of the employee\n",
    "```\n",
    "\n",
    "Create an object of type Employee and initialize with arbitrary values. Invoke the get methods and display the result."
   ]
  },
  {
   "cell_type": "code",
   "execution_count": 34,
   "metadata": {},
   "outputs": [
    {
     "name": "stdout",
     "output_type": "stream",
     "text": [
      "Employee Sanjay is age 42 with salary $210000.00\n",
      "Employee Vasu is age 58 with salary $210000.00\n",
      "Employee Debbie is age 33 with salary $110000.33\n"
     ]
    }
   ],
   "source": [
    "### YOUR CODE GOES BELOW\n",
    "\n",
    "class Employee():\n",
    "    def __init__(self, name, age, salary):\n",
    "        self.name = name\n",
    "        self.age = int(age)\n",
    "        self.salary = float(salary)\n",
    "    def getEmployee(self):\n",
    "        return self.name\n",
    "    def getEmployeeAge(self):\n",
    "        return self.age\n",
    "    def getEmployeeSalary(self):\n",
    "        return self.salary\n",
    "    \n",
    "e1 = Employee(\"Sanjay\", 42, 210000)\n",
    "print \"Employee %s is age %d with salary $%0.2f\" % (e1.getEmployee(),e1.getEmployeeAge(),e1.getEmployeeSalary())\n",
    "e1.name = \"Vasu\"\n",
    "e1.age = 58\n",
    "print \"Employee %s is age %d with salary $%0.2f\" % (e1.getEmployee(),e1.getEmployeeAge(),e1.getEmployeeSalary())\n",
    "\n",
    "e2 = Employee(\"Debbie\", 33, 110000.33)\n",
    "print \"Employee %s is age %d with salary $%0.2f\" % (e2.getEmployee(),e2.getEmployeeAge(),e2.getEmployeeSalary())\n",
    "\n",
    "\n",
    "### END CODE"
   ]
  },
  {
   "cell_type": "markdown",
   "metadata": {},
   "source": [
    "#### Exercise 3 - Private members\n",
    "\n",
    "In the above **Employee** class make the employeeName, employeeAge and employeeSalary private so that their access is restricted to only within the class."
   ]
  },
  {
   "cell_type": "code",
   "execution_count": 35,
   "metadata": {},
   "outputs": [
    {
     "name": "stdout",
     "output_type": "stream",
     "text": [
      "Employee Sanjay is age 42 with salary $210000.00\n",
      "Employee Sanjay is age 42 with salary $210000.00\n",
      "Employee Debbie is age 33 with salary $110000.33\n"
     ]
    }
   ],
   "source": [
    "### YOUR CODE GOES BELOW\n",
    "\n",
    "class Employee():\n",
    "    def __init__(self, name, age, salary):\n",
    "        self.__name = name\n",
    "        self.__age = int(age)\n",
    "        self.__salary = float(salary)\n",
    "    def getEmployee(self):\n",
    "        return self.__name\n",
    "    def getEmployeeAge(self):\n",
    "        return self.__age\n",
    "    def getEmployeeSalary(self):\n",
    "        return self.__salary\n",
    "    \n",
    "e1 = Employee(\"Sanjay\", 42, 210000)\n",
    "print \"Employee %s is age %d with salary $%0.2f\" % (e1.getEmployee(),e1.getEmployeeAge(),e1.getEmployeeSalary())\n",
    "\n",
    "e1.__name = \"Vasu\"\n",
    "e1.__age = 58\n",
    "print \"Employee %s is age %d with salary $%0.2f\" % (e1.getEmployee(),e1.getEmployeeAge(),e1.getEmployeeSalary())\n",
    "\n",
    "e2 = Employee(\"Debbie\", 33, 110000.33)\n",
    "print \"Employee %s is age %d with salary $%0.2f\" % (e2.getEmployee(),e2.getEmployeeAge(),e2.getEmployeeSalary())\n",
    "\n",
    "### END CODE"
   ]
  },
  {
   "cell_type": "markdown",
   "metadata": {},
   "source": [
    "#### Exercise 4 - Adding setters and working with a list of Employees\n",
    "\n",
    "In the **Employee** class add the following methods\n",
    "\n",
    "```\n",
    "1. setEmployeeAge - accepts age and sets it in the object\n",
    "2. setEmployeeName - accepts employee name and sets it in the object\n",
    "3. setEmployeeSalary - accepts employee salary and sets it i nthe object\n",
    "```\n",
    "\n",
    "Create a list of employees called employeeList. Initialize the list with three objects of type Employee. Initialize the object with the values \"None\" for employeeName, 0 for employeeAge and 0 for employeeSalary.\n",
    "\n",
    "Loop  through each employee in the employeeList. Each time, request the user to enter the name, age and salary of a different employee. Use the set methods to set the name, age and salary for each employee in the employeeList.\n",
    "\n",
    "Loop through each employee in the employeeList. Display the name, age and salary of each employee."
   ]
  },
  {
   "cell_type": "code",
   "execution_count": 55,
   "metadata": {},
   "outputs": [
    {
     "name": "stdout",
     "output_type": "stream",
     "text": [
      "Enter Employee Name('stop' to exit): Sanjay\n",
      "Enter Employee Age: 45\n",
      "Enter Employee Salary: 210000\n",
      "Enter Employee Name('stop' to exit): Vasu\n",
      "Enter Employee Age: 32\n",
      "Enter Employee Salary: 9000\n",
      "Enter Employee Name('stop' to exit): Karen Liu\n",
      "Enter Employee Age: 54\n",
      "Enter Employee Salary: 13250\n",
      "Enter Employee Name('stop' to exit): stop\n",
      "---------------------------------------------\n",
      "[['Sanjay', 45, 210000], ['Vasu', 32, 9000], ['Karen Liu', 54, 13250]]\n",
      "---------------------------------------------\n",
      "Name: Sanjay, Age: 45, Salary: 210000\n",
      "Name: Vasu, Age: 32, Salary: 9000\n",
      "Name: Karen Liu, Age: 54, Salary: 13250\n"
     ]
    }
   ],
   "source": [
    "### YOUR CODE GOES BELOW\n",
    "class Employee():\n",
    "    def __init__(self, name, age, salary):\n",
    "        self.__name = name\n",
    "        self.__age = age\n",
    "        self.__salary = salary\n",
    "    def setEmployeeAge(self, age):\n",
    "        self.__age = age\n",
    "    def setEmployeeName(self, name):\n",
    "        self.__name = name\n",
    "    def setEmployeeSalary(self, salary):\n",
    "        self.__salary = salary\n",
    "    def result(self):\n",
    "        return [self.__name, self.__age, self.__salary]\n",
    "\n",
    "employeeList=[]\n",
    "emp = Employee(\"None\", 0, 0)\n",
    "while True:\n",
    "    name = raw_input(\"Enter Employee Name('stop' to exit): \")\n",
    "    if name.lower() == \"stop\":\n",
    "        break\n",
    "    \n",
    "    age = int(raw_input(\"Enter Employee Age: \"))\n",
    "    salary = int(raw_input(\"Enter Employee Salary: \"))\n",
    "    emp.setEmployeeName(name)\n",
    "    emp.setEmployeeAge(age)\n",
    "    emp.setEmployeeSalary(salary)\n",
    "    employeeList.append(emp.result())\n",
    "\n",
    "print \"---------------------------------------------\"\n",
    "print employeeList\n",
    "print \"---------------------------------------------\"\n",
    "\n",
    "for e in employeeList:\n",
    "    print \"Name: %s, Age: %d, Salary: %d\" % (e[0], e[1], e[2])\n",
    "\n",
    "### END CODE"
   ]
  },
  {
   "cell_type": "markdown",
   "metadata": {},
   "source": [
    "#### Exercise 5 -  Creating a Python calculator class\n",
    "\n",
    "Create a Python class called Calculator. \n",
    "\n",
    "The class has the following data members\n",
    "\n",
    "```\n",
    "1. number1 - type float\n",
    "2. number2 - type float\n",
    "```\n",
    "\n",
    "The class must have the below methods\n",
    "\n",
    "```\n",
    "1. add - adds two numbers and returns the result\n",
    "2. subtract - subtracts the first number from the second number and returns the result\n",
    "3. multiply - multiply two numbers and returns the result\n",
    "4. divide - divide the first number by the second number and returns the result\n",
    "5. __init__ - accepts two numbers and uses those numbers to initialize number1 and number2 respectively\n",
    "```\n",
    "\n",
    "Create an object of the Calculator class. Initialize it with any two arbitrary numbers. Invoke the methods add, subtract, multiple and divide and display the result\n",
    "\n",
    "\n"
   ]
  },
  {
   "cell_type": "code",
   "execution_count": 36,
   "metadata": {},
   "outputs": [
    {
     "name": "stdout",
     "output_type": "stream",
     "text": [
      "Add result: 240.0\n",
      "Subtract result: 160.0\n",
      "Multiply result: 8000.0\n",
      "Divide result: 5.0\n",
      "--------------------------------------\n",
      "Add result: 100.0\n",
      "Subtract result: 100.0\n",
      "Multiply result: 0.0\n",
      "Divide result: Oops, we have problem\n"
     ]
    }
   ],
   "source": [
    "### YOUR CODE GOES \n",
    "\n",
    "class Calculator():\n",
    "    def __init__(self, n1, n2):\n",
    "        self.__n1 = float(n1)\n",
    "        self.__n2 = float(n2)\n",
    "    def add(self):\n",
    "        return self.__n1 + self.__n2\n",
    "    def subtract(self):\n",
    "        return self.__n1 - self.__n2\n",
    "    def multiply(self):\n",
    "        return self.__n1 * self.__n2\n",
    "    def divide(self):\n",
    "        try:\n",
    "            return self.__n1 / self.__n2\n",
    "        except:\n",
    "            return \"Oops, we have problem\"\n",
    "\n",
    "cal1 = Calculator(200, 40)\n",
    "print \"Add result:\", cal1.add()\n",
    "print \"Subtract result:\", cal1.subtract()\n",
    "print \"Multiply result:\", cal1.multiply()\n",
    "print \"Divide result:\", cal1.divide()\n",
    "\n",
    "cal2 = Calculator(100, 0)\n",
    "print \"--------------------------------------\"\n",
    "print \"Add result:\", cal2.add()\n",
    "print \"Subtract result:\", cal2.subtract()\n",
    "print \"Multiply result:\", cal2.multiply()\n",
    "print \"Divide result:\", cal2.divide()\n",
    "\n",
    "\n",
    "### END CODE"
   ]
  },
  {
   "cell_type": "markdown",
   "metadata": {},
   "source": [
    "# Optional Exercise"
   ]
  },
  {
   "cell_type": "markdown",
   "metadata": {},
   "source": [
    "#### Exercise 6"
   ]
  },
  {
   "cell_type": "markdown",
   "metadata": {
    "collapsed": true
   },
   "source": [
    "In the next two problems, you’ll be building an address book using object-­‐oriented programming in Python. To begin, you’ll define a Person class. You’ll use this class in the next problem to build your address book – each entry in your address book will be an instance of the Person class.\n",
    "\n",
    "To begin, define the    init    and    str    methods for the Person class. Read the Python documentation if needed to help you understand what    init__ and    str \t need to do.\n",
    "\n",
    "Here’s an example interaction in the Python shell demonstrating how your class should work after implementing these two methods:"
   ]
  },
  {
   "cell_type": "raw",
   "metadata": {},
   "source": [
    "Emily = Person(“Zhang”, “Emily”, “5559358150”, “emzhang@mit.edu”)\n",
    "print Emily\n",
    "Zhang, Emily -- Phone Number: 5559358150 -- Email Address(es): emzhang@mit.edu\n",
    "Wesley = Person(“Graybill”, “Wesley”, “5551940325”, [‘wgray496@mit.edu’, ‘wdgraybill@gmail.com’])\n",
    "print Wesley\n",
    "Graybill, Wesley -- Phone Number: 5551940325 -- Email Address(es): wgray496@mit.edu, wdgraybill@gmail.com"
   ]
  },
  {
   "cell_type": "code",
   "execution_count": 37,
   "metadata": {},
   "outputs": [
    {
     "name": "stdout",
     "output_type": "stream",
     "text": [
      "Zhang, Emily -- Phone Number:5559358150 -- Email Address(es): emzhang@mit.edu\n",
      "Graybill, Wesley -- Phone Number:5551940325 -- Email Address(es): gray496@mit.edu, wdgraybill@gmail.com\n"
     ]
    }
   ],
   "source": [
    "### YOUR CODE GOES \n",
    "\n",
    "class Person(object):\n",
    "    def __init__(self, last_name, first_name, phone, email):\n",
    "        self.last_name = last_name\n",
    "        self.first_name = first_name\n",
    "        self.phone = phone\n",
    "        self.email = email\n",
    "    def __str__(self):\n",
    "        if type(self.email) == str:     # Check if it's a single email (String)\n",
    "            temp_str = self.email\n",
    "        else:                           # More than 1 email in a List\n",
    "            temp_str = \"\"  \n",
    "            for e in self.email:\n",
    "                temp_str += e + \", \"\n",
    "            temp_str = temp_str[1:len(temp_str)-2]   # Get rid of the last 2 characters: \", \" \n",
    "            \n",
    "        return self.last_name+\", \"+self.first_name+\" -- Phone Number:\"+self.phone+\" -- Email Address(es): \"+temp_str \n",
    "\n",
    "Emily = Person(\"Zhang\", \"Emily\", \"5559358150\", \"emzhang@mit.edu\")\n",
    "print Emily\n",
    "\n",
    "Wesley = Person(\"Graybill\", \"Wesley\", \"5551940325\", ['wgray496@mit.edu', 'wdgraybill@gmail.com'])\n",
    "print Wesley\n",
    "\n",
    "\n",
    "\n",
    "### END CODE"
   ]
  },
  {
   "cell_type": "markdown",
   "metadata": {},
   "source": [
    "#### Exercise 7"
   ]
  },
  {
   "cell_type": "markdown",
   "metadata": {},
   "source": [
    "In this problem, you will use your Person class from the previous problem to create an address book for storing the contacts of your friends and family. It should allow you to search the address book for a friend, and return their contact information.\n",
    "\n",
    "Begin by defining an   init   method. Don’t forget about Python's built-­‐in dictionary data type.\n",
    "\n",
    "Next, write a method add_contact that allows you to add a new person to the address book.\n",
    "\n",
    "Finally, write a method lookup_contact that looks up a contact by last name. The method should accept the last name as an argument, and print each contact that matches the last name on a new line. As an additional challenge, extend this method to allow users to optionally specify a first name to narrow down the results when multiple contacts have the same last name. To learn more about optional arguments in Python, search for terms such as “optional arguments in Python” and “default arguments in Python”.\n",
    "\n",
    "For example, suppose the contact book contains entries for both Ali Kamil, and his wife Sama Kamil. The following is an example output:\n"
   ]
  },
  {
   "cell_type": "raw",
   "metadata": {},
   "source": [
    ">>> a = AddressBook()\n",
    ">>> a.add_person(Person(“Kamil”, “Ali”, … ))\n",
    ">>> a.add_person(Person(“Kamil”, “Sama”, … ))\n",
    ">>> a.lookup_contact(“Kamil”) Kamil, Ali -- Phone Number: … Kamil, Sama -- Phone Number: …\n",
    ">>> a.lookup_contact(“Kamil”, “Ali”)\n",
    "Kamil, Ali -- Phone Number: …\n"
   ]
  },
  {
   "cell_type": "code",
   "execution_count": 38,
   "metadata": {},
   "outputs": [
    {
     "name": "stdout",
     "output_type": "stream",
     "text": [
      "Display the data structure of the Address Book:\n",
      "\n",
      "{'Kamil': [['Ali', '408-323-6231', 'ali_kamil@gmail.com'], ['Sama', '650-111-2323', 'sama_kamil@yahoo.com']], 'Graybill': [['Wesley', '5551940325', 'wgray496@mit.edu']], 'Zhang': [['Emily', '5559358150', 'emzhang@mit.edu'], ['Kevin', '6669358150', 'kvzhang@gmail.com']]}\n",
      "\n",
      "--------------------------------------------------------------------------\n",
      "Kamil, Ali -- Phone Number: 408-323-6231  -- Email: ali_kamil@gmail.com\n",
      "--------------------------------------------------------------------------\n",
      "Kamil, Ali -- Phone Number: 408-323-6231  -- Email: ali_kamil@gmail.com\n",
      "Kamil, Sama -- Phone Number: 650-111-2323  -- Email: sama_kamil@yahoo.com\n",
      "--------------------------------------------------------------------------\n",
      "Sorry, there is no such person:  Kamil, Alice\n",
      "--------------------------------------------------------------------------\n",
      "Graybill, Wesley -- Phone Number: 5551940325  -- Email: wgray496@mit.edu\n",
      "--------------------------------------------------------------------------\n",
      "Sorry, there is no such person:  Zhong\n",
      "--------------------------------------------------------------------------\n",
      "Zhang, Emily -- Phone Number: 5559358150  -- Email: emzhang@mit.edu\n",
      "Zhang, Kevin -- Phone Number: 6669358150  -- Email: kvzhang@gmail.com\n"
     ]
    }
   ],
   "source": [
    "### YOUR CODE GOES \n",
    "class AddressBook():\n",
    "    def __init__(self):\n",
    "        self.address = {}\n",
    "        \n",
    "    def add_person(self, Person):\n",
    "        k = Person.last_name \n",
    "        if self.address.get(Person.last_name) == None:         # last_name doesn't exists\n",
    "            self.address[k] = [[Person.first_name, Person.phone, Person.email]]\n",
    "        else:\n",
    "            self.address[k].append([Person.first_name, Person.phone, Person.email])\n",
    "            \n",
    "    def lookup_contact(self, ln, fn=\"\"):\n",
    "        if self.address.get(ln) == None:                        # Last_Name not exists\n",
    "            print \"Sorry, there is no such person: \", ln\n",
    "        elif fn != \"\":                                          # First_Name is passed\n",
    "            found = False\n",
    "            for item in self.address[ln]:\n",
    "                if item[0] == fn:\n",
    "                    found = True\n",
    "                    print ln+\", \"+fn+\" -- Phone Number: \"+item[1]+\"  -- Email: \"+item[2]   \n",
    "            if not found:\n",
    "                print \"Sorry, there is no such person: \", ln+\", \"+fn\n",
    "        else:\n",
    "            for item in self.address[ln]:\n",
    "                print ln+\", \"+item[0]+\" -- Phone Number: \"+item[1]+\"  -- Email: \"+item[2]\n",
    "                     \n",
    "    \n",
    "    def __str__(self):\n",
    "        print self.address\n",
    "\n",
    "a = AddressBook()\n",
    "a.add_person(Person(\"Kamil\", \"Ali\", \"408-323-6231\", \"ali_kamil@gmail.com\"))\n",
    "a.add_person(Person(\"Kamil\", \"Sama\", \"650-111-2323\", \"sama_kamil@yahoo.com\"))\n",
    "a.add_person(Person(\"Zhang\", \"Emily\", \"5559358150\", \"emzhang@mit.edu\"))\n",
    "a.add_person(Person(\"Graybill\", \"Wesley\", \"5551940325\", 'wgray496@mit.edu'))\n",
    "a.add_person(Person(\"Zhang\", \"Kevin\", \"6669358150\", \"kvzhang@gmail.com\"))\n",
    "\n",
    "print \"Display the data structure of the Address Book:\\n\"\n",
    "a.__str__()\n",
    "\n",
    "print \"\\n--------------------------------------------------------------------------\"\n",
    "a.lookup_contact(\"Kamil\", \"Ali\")\n",
    "      \n",
    "print \"--------------------------------------------------------------------------\"\n",
    "a.lookup_contact(\"Kamil\")\n",
    "\n",
    "print \"--------------------------------------------------------------------------\"\n",
    "a.lookup_contact(\"Kamil\", \"Alice\")\n",
    "\n",
    "print \"--------------------------------------------------------------------------\"\n",
    "a.lookup_contact(\"Graybill\")\n",
    "\n",
    "print \"--------------------------------------------------------------------------\"\n",
    "a.lookup_contact(\"Zhong\")\n",
    "\n",
    "print \"--------------------------------------------------------------------------\"\n",
    "a.lookup_contact(\"Zhang\")\n",
    "\n",
    "\n",
    "### END CODE"
   ]
  },
  {
   "cell_type": "code",
   "execution_count": null,
   "metadata": {
    "collapsed": true
   },
   "outputs": [],
   "source": []
  }
 ],
 "metadata": {
  "kernelspec": {
   "display_name": "Python 2",
   "language": "python",
   "name": "python2"
  },
  "language_info": {
   "codemirror_mode": {
    "name": "ipython",
    "version": 2
   },
   "file_extension": ".py",
   "mimetype": "text/x-python",
   "name": "python",
   "nbconvert_exporter": "python",
   "pygments_lexer": "ipython2",
   "version": "2.7.14"
  }
 },
 "nbformat": 4,
 "nbformat_minor": 2
}
