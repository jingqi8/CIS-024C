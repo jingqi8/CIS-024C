{
 "cells": [
  {
   "cell_type": "markdown",
   "metadata": {},
   "source": [
    "\n",
    "# CIS024C - Spring 2018 - Monday 5:30-9:25pm \n",
    "\n",
    "## Homework 8\n",
    "\n",
    "Homework 8 covers exercises involving  external libraries, creating user defined libraries and working with command line arguments.\n",
    "\n",
    "The below sites have some interesting and useful information on these topics\n",
    "\n",
    "https://docs.python.org/2/library/index.html\n",
    "http://www.pythonforbeginners.com/argv/more-fun-with-sys-argv\n",
    "https://docs.python.org/2/library/argparse.html\n",
    "\n",
    "You will need to download this notebook and use this as a starting point for your homework. You will just need to fill in the content of each code-block (cell) and execute. Once you have completed all the exercises, you will need to save and upload this to your github repository under a folder called hw7.\n",
    "\n",
    "Note also the exercises build on top of one another so you might be able to do the next exercise if you have not completed the previous exercise.\n",
    "\n",
    "Post any questions you have on our Slack at **cis-024c1.slack.com**\n",
    "\n",
    "** Slides ** for Week 8 and Week 9 can be found at \n",
    "\n",
    "Week 8 - https://docs.google.com/presentation/d/1HcWIuVciM0_L935Umi5rPgQHJYIv1bNfYnErfOelbtw\n",
    "Week 9 - https://docs.google.com/presentation/d/15v1bLJ5ek5Z8mY3bZDOj67o4H3Ojhxuk-8ICI_FY6O4\n",
    "\n",
    "**Please refer back to hw1 and slack for instructions on how to setup your computer for developing using Python.**"
   ]
  },
  {
   "cell_type": "markdown",
   "metadata": {},
   "source": [
    "### Helpful Jupyter Commands\n",
    "\n",
    "Below are some useful commands to know when using Jupyter\n",
    "\n",
    "1. You can add a new cell by clicking on the \"+\" icon on top.\n",
    "2. You can delete a cell by selecting that cell and clicking on the \"scissors\" icon on top.\n",
    "3. You can execute a cell by either pressing shift+enter or selecting the \"play\" button on top.\n",
    "4. You can create a new file in Jupyter via the File menu->New Notebook option. Make sure to select Python 2 when creating your notebook.\n",
    "5. Also, for your code blocks make sure that Code is selected instead of another option like Markdown.\n",
    "6. Use the Enter key to go to the next line in a cell to enter the next statement.\n",
    "7. You can clear results by clicking on the Cell menu item and selecting Current Output->Clear or All Output->Clear depending on whether you are trying to just clear the output for one cell or for all cells.\n",
    "8. In case your program has crashed for some reason (infinite loop, for example), you can restart your Python session by select Kernel in the menu and selecting Restart.\n"
   ]
  },
  {
   "cell_type": "markdown",
   "metadata": {},
   "source": [
    "#### Check Python Version"
   ]
  },
  {
   "cell_type": "code",
   "execution_count": null,
   "metadata": {
    "collapsed": true
   },
   "outputs": [],
   "source": [
    "!python --version"
   ]
  },
  {
   "cell_type": "markdown",
   "metadata": {},
   "source": [
    "#### Sample Exercises with Exception Handling\n",
    "\n",
    "Week 8 Class Work can be found here\n",
    "\n",
    "https://github.com/cis024c/fall2017classwork/tree/master/week8"
   ]
  },
  {
   "cell_type": "markdown",
   "metadata": {},
   "source": [
    "**Exercise 1 - Testing your knowledge of External Libraries **\n",
    "\n",
    "Answer the below questions\n",
    "\n",
    "1. Name two benefits of using external libraries.\n",
    "2. What are the different ways of including an external library in a Python program?"
   ]
  },
  {
   "cell_type": "markdown",
   "metadata": {},
   "source": [
    "1. A. Save time for development cycle because it shares the common used functions/modules with others; B. Distribute the different functionalities among the development team for better integration later.\n",
    "\n",
    "2. A. import library [as xx]; B. from library import function(s). For method A, whenever using the functions, the library name must be refered as the prefix; however for method B, we can use the function(s) without reference the library name."
   ]
  },
  {
   "cell_type": "markdown",
   "metadata": {},
   "source": [
    "#### Exercise 2 -  Using the math library\n",
    "\n",
    "Import the math library in your program and do the following\n",
    "\n",
    "1. Request the user to enter a number between 1 and 10\n",
    "2. Compute the log (math.log) of the number\n",
    "3. Compute teh factorial (math.factorial) of the number\n",
    "4. Compute the square root (math.sqrt) of the number\n",
    "5. Compute the sine (math.sin) of the number\n",
    "\n",
    "Refer to https://docs.python.org/2/library/math.html for more information on the math library\n"
   ]
  },
  {
   "cell_type": "code",
   "execution_count": 14,
   "metadata": {},
   "outputs": [
    {
     "name": "stdout",
     "output_type": "stream",
     "text": [
      "Enter a number between 1 to 10:15\n",
      "You must enter a number between 1 to 10!\n",
      "Enter a number between 1 to 10:hello\n",
      "Please enter a number between 1 to 10!\n",
      "Enter a number between 1 to 10:8\n",
      "Log of 8 is 2.0794\n",
      "Factorial of 8 is 40320\n",
      "Sqrt of 8.000000 is 2.8284\n",
      "Sin of 8.000000 is 0.9894\n"
     ]
    }
   ],
   "source": [
    "### YOUR CODE GOES \n",
    "\n",
    "import math\n",
    "\n",
    "while True:\n",
    "    try:\n",
    "        n = int(raw_input(\"Enter a number between 1 to 10:\"))\n",
    "        if n < 1 or n > 10:\n",
    "            print \"You must enter a number between 1 to 10!\"\n",
    "        else:\n",
    "            print \"Log of %d is %0.4f\" % (n, math.log(n))\n",
    "            print \"Factorial of %d is %d\" % (n, math.factorial(n))\n",
    "            print \"Sqrt of %f is %0.4f\" % (n, math.sqrt(n))\n",
    "            print \"Sin of %f is %0.4f\" % (n, math.sin(n))\n",
    "            break\n",
    "    except:\n",
    "        print \"Please enter a number between 1 to 10!\"\n",
    "    \n",
    "### END CODE"
   ]
  },
  {
   "cell_type": "markdown",
   "metadata": {},
   "source": [
    "#### Exercise 3 - Random numbers\n",
    "\n",
    "Generate a list of 10 random numbers between 1 and 100. Use random.sample function. Write a program to then sort the list of numbers in ascending order."
   ]
  },
  {
   "cell_type": "code",
   "execution_count": 15,
   "metadata": {},
   "outputs": [
    {
     "name": "stdout",
     "output_type": "stream",
     "text": [
      "The 10 random numbers are:  [48, 76, 32, 10, 30, 3, 1, 37, 68, 36]\n",
      "The sorted result is:  [1, 3, 10, 30, 32, 36, 37, 48, 68, 76]\n"
     ]
    }
   ],
   "source": [
    "### YOUR CODE GOES BELOW\n",
    "\n",
    "from random import sample\n",
    "\n",
    "l = sample(range(1, 101), 10)\n",
    "\n",
    "print \"The 10 random numbers are: \", l\n",
    "\n",
    "l1 = len(l)\n",
    "for i in range(0, l1):\n",
    "    for j in range (i+1, l1):\n",
    "        if l[i] > l[j]:\n",
    "            l[i], l[j] = l[j], l[i]\n",
    "\n",
    "print \"The sorted result is: \", l \n",
    "\n",
    "\n",
    "### END CODE"
   ]
  },
  {
   "cell_type": "markdown",
   "metadata": {},
   "source": [
    "#### Exercise 4 - Creating your own library\n",
    "\n",
    "Create a python module **helperfunctions.py** with the following functions.\n",
    "\n",
    "1. add - returns the sum of two numbers\n",
    "2. diff - returns the difference between two numbers\n",
    "3. product - returns the product of two numbers\n",
    "4. greatest - returns the greatest of two numbers.\n",
    "\n",
    "Import this module in your python program and use the functions your created on any two numbers and print the result.\n",
    "\n",
    "Note: Upload the **helperfunctions.py** module to your github folder along with the notebook file. You can also upload **helperfunctions.py** to Canvas if you are having trouble copying it to Github"
   ]
  },
  {
   "cell_type": "code",
   "execution_count": 16,
   "metadata": {},
   "outputs": [
    {
     "name": "stdout",
     "output_type": "stream",
     "text": [
      "Overwriting helperfunctions.py\n"
     ]
    }
   ],
   "source": [
    "%%writefile helperfunctions.py\n",
    "\n",
    "def add(x1, x2):\n",
    "    return x1+x2\n",
    "\n",
    "def diff(x1, x2):\n",
    "    return abs(x1-x2)\n",
    "\n",
    "def product(x1, x2):\n",
    "    return x1*x2\n",
    "\n",
    "def greatest(x1, x2):\n",
    "    return max(x1, x2)\n",
    "\n",
    "if __name__ == \"__main__\":\n",
    "    print \"Test....Test....\"\n",
    "\n",
    "### END CODE"
   ]
  },
  {
   "cell_type": "code",
   "execution_count": 17,
   "metadata": {},
   "outputs": [
    {
     "name": "stdout",
     "output_type": "stream",
     "text": [
      "Test....Test....\n"
     ]
    }
   ],
   "source": [
    "!python helperfunctions.py"
   ]
  },
  {
   "cell_type": "code",
   "execution_count": 18,
   "metadata": {},
   "outputs": [
    {
     "name": "stdout",
     "output_type": "stream",
     "text": [
      "Sum of 15 and 18 is: 33\n",
      "Difference of 15 and 18 is: 3\n",
      "Product of 15 and 18 is: 270\n",
      "Max of 15 and 18 is: 18\n"
     ]
    }
   ],
   "source": [
    "from helperfunctions import *\n",
    "\n",
    "if __name__ == \"__main__\":\n",
    "    print \"Sum of 15 and 18 is:\", add(15, 18)\n",
    "    print \"Difference of 15 and 18 is:\", diff(15, 18)\n",
    "    print \"Product of 15 and 18 is:\", product(15, 18)\n",
    "    print \"Max of 15 and 18 is:\", greatest(15, 18)"
   ]
  },
  {
   "cell_type": "markdown",
   "metadata": {},
   "source": [
    "#### Exercise 5 - Command Line programs with multiple modules\n",
    "\n",
    "Write a Python program to add two numbers. \n",
    "\n",
    "Your Python program must have a function called **add** that is placed in a separate module called **helper.py**. \n",
    "\n",
    "Your main program, which is also a standalone Python program **main.py** must import **helper.py** and use this module to add the two numbers. \n",
    "\n",
    "The numbers to be added must be passed via the command line. You could use either argv or argparse for accepting command line arguments.\n",
    "\n",
    "Here is an example of how your program would be invoked assuming the numbers to be added are 3 and 2\n",
    "\n",
    "**python main.py 3 2**\n"
   ]
  },
  {
   "cell_type": "code",
   "execution_count": 19,
   "metadata": {},
   "outputs": [
    {
     "name": "stdout",
     "output_type": "stream",
     "text": [
      "Overwriting helper.py\n"
     ]
    }
   ],
   "source": [
    "%%writefile helper.py\n",
    "\n",
    "def add(x1, x2):\n",
    "    return x1+x2\n",
    "\n",
    "\n",
    "### END CODE"
   ]
  },
  {
   "cell_type": "code",
   "execution_count": 20,
   "metadata": {},
   "outputs": [
    {
     "name": "stdout",
     "output_type": "stream",
     "text": [
      "Overwriting main.py\n"
     ]
    }
   ],
   "source": [
    "%%writefile main.py\n",
    "import sys\n",
    "import helper\n",
    "\n",
    "if len(sys.argv) < 3:\n",
    "    print \"You must provide 2 input parameters. Try again!\"\n",
    "else:\n",
    "    try:\n",
    "        a = int(sys.argv[1])\n",
    "        b = int(sys.argv[2])\n",
    "        print \"The sum of %d and %d is: %d\" % (a, b, helper.add(a, b))\n",
    "    except Exception as e:\n",
    "        print e"
   ]
  },
  {
   "cell_type": "code",
   "execution_count": 21,
   "metadata": {},
   "outputs": [
    {
     "name": "stdout",
     "output_type": "stream",
     "text": [
      "You must provide 2 input parameters. Try again!\n"
     ]
    }
   ],
   "source": [
    "!python main.py 3"
   ]
  },
  {
   "cell_type": "code",
   "execution_count": 22,
   "metadata": {},
   "outputs": [
    {
     "name": "stdout",
     "output_type": "stream",
     "text": [
      "The sum of 3 and 2 is: 5\n"
     ]
    }
   ],
   "source": [
    "!python main.py 3 2"
   ]
  },
  {
   "cell_type": "markdown",
   "metadata": {},
   "source": [
    "## OPTIONAL EXERCISES\n",
    "\n",
    "Below is a set of optional exercises. These will not be graded but the solutions will be posted. I would strongly encourage you to try these out if you are done with the mandatory homework exercises to improve your understanding of python."
   ]
  },
  {
   "cell_type": "markdown",
   "metadata": {},
   "source": [
    "#### Exercise 6\n",
    "\n",
    "Recall the similarity function to compute the edit distance in homework 7 and classwork 7. \n",
    "\n",
    "Create a Python module using the similarity function. Write a Python program to invoke the similarity function on any word entered by the user."
   ]
  },
  {
   "cell_type": "code",
   "execution_count": 12,
   "metadata": {},
   "outputs": [
    {
     "name": "stdout",
     "output_type": "stream",
     "text": [
      "\n",
      "Enter a word ('stop' to exit): -----> beautif\n",
      "The final result is:  beauty\n",
      "\n",
      "Enter a word ('stop' to exit): -----> strang\n",
      "The final result is:  strong\n",
      "\n",
      "Enter a word ('stop' to exit): -----> beautiful\n",
      "Nothing to correct, and we are good!!!\n",
      "The final result is:  beautiful\n",
      "\n",
      "Enter a word ('stop' to exit): -----> beautifl\n",
      "The final result is:  beautiful\n",
      "\n",
      "Enter a word ('stop' to exit): -----> strnge\n",
      "The final result is:  strange\n",
      "\n",
      "Enter a word ('stop' to exit): -----> beautif\n",
      "This is already corrected as:  beauty\n",
      "The final result is:  beauty\n",
      "\n",
      "Enter a word ('stop' to exit): -----> useful\n",
      "Nothing to correct, and we are good!!!\n",
      "The final result is:  useful\n",
      "\n",
      "Enter a word ('stop' to exit): -----> strnge\n",
      "This is already corrected as:  strange\n",
      "The final result is:  strange\n",
      "\n",
      "Enter a word ('stop' to exit): -----> stop\n",
      "\n",
      "Here are all corrected words:\n",
      "{'beautif': 'beauty', 'strang': 'strong', 'beautifl': 'beautiful', 'strnge': 'strange'}\n"
     ]
    }
   ],
   "source": [
    "### YOUR CODE GOES BELOW\n",
    "\n",
    "f = open(\"20K.txt\", \"r\")        # Open the file contains 20,000 English words\n",
    "words = f.read()                # Read it into words varaible\n",
    "f.close()\n",
    "words_list = words.split()      # Convert into a List\n",
    "\n",
    "words_dictionary = {}           # A Dictionary to store already corrected word for performance reason\n",
    "\n",
    "\n",
    "# Function to calculate the distance between 2 words\n",
    "def edit_distance(s1, s2):\n",
    "    if len(s1) > len(s2):\n",
    "        s1, s2 = s2, s1\n",
    "\n",
    "    distances = range(len(s1) + 1)\n",
    "    for i2, c2 in enumerate(s2):\n",
    "        distances_ = [i2+1]\n",
    "        for i1, c1 in enumerate(s1):\n",
    "            if c1 == c2:\n",
    "                distances_.append(distances[i1])\n",
    "            else:\n",
    "                distances_.append(1 + min((distances[i1], distances[i1 + 1], distances_[-1])))\n",
    "        distances = distances_\n",
    "    return distances[-1]\n",
    "\n",
    "# Correct the word based on the List of 20K words and the min edit distance\n",
    "def auto_correction(word):\n",
    "    if word in words_list:                          # Check if this word is already in the Words List\n",
    "        print \"Nothing to correct, and we are good!!!\"\n",
    "        result = word\n",
    "    elif words_dictionary.get(word) != None:        # Check if this word is already corrected before\n",
    "        print \"This is already corrected as: \", words_dictionary[word]\n",
    "        result = words_dictionary[word]\n",
    "    else:\n",
    "        distance = 9999             # Initial the distance\n",
    "        result = \"\"                 # Initial the result\n",
    "        for w in words_list:        # Calculate the min edit distance based on the 20K word List\n",
    "            dis = edit_distance(word, w)\n",
    "            if distance > dis:\n",
    "                distance = dis\n",
    "                result = w      \n",
    "        words_dictionary[input_word_lower] = result       # Store the correction for next time use\n",
    "\n",
    "    return result\n",
    "\n",
    "# Main program\n",
    "while True:\n",
    "    input_word = raw_input(\"\\nEnter a word ('stop' to exit): -----> \")\n",
    "    input_word_lower = input_word.lower()\n",
    "    \n",
    "    if input_word_lower == \"stop\":\n",
    "        break\n",
    "        \n",
    "    result = auto_correction(input_word_lower)      # Auto correct it\n",
    "    print \"The final result is: \", result           \n",
    "    \n",
    "print \"\\nHere are all corrected words:\\n\",  words_dictionary\n",
    "\n",
    "### END CODE"
   ]
  },
  {
   "cell_type": "markdown",
   "metadata": {},
   "source": [
    "#### Exercise 7\n",
    "\n",
    "Write a Python program using the urrlib2 library to print all the URLs present on the website http://www.cnn.com\n",
    "\n",
    "Note that you will need to search for href tags in order to locate links. An easier option is to use an HTML parser module to parse the website and then you can query it for a set of links. \n",
    "\n"
   ]
  },
  {
   "cell_type": "code",
   "execution_count": 13,
   "metadata": {},
   "outputs": [
    {
     "name": "stdout",
     "output_type": "stream",
     "text": [
      "href=\"/favicon.ie9.ico\"\n",
      "href=\"//cdn.cnn.com/cnn/.e/img/3.0/global/misc/apple-touch-icon.png\"\n",
      "href=\"https://www.cnn.com\"\n",
      "href=\"https://www.cnn.com\"\n",
      "href=\"https://edition.cnn.com\"\n",
      "href=\"https://edition.cnn.com\"\n",
      "href=\"https://www.cnn.com\"\n",
      "href=\"https://plus.google.com/+cnn/posts\"\n",
      "href=\"android-app://com.cnn.mobile.android.phone/http/www.cnn.com\"\n",
      "href=\"//cdn.optimizely.com/js/131788053.js\"\n",
      "href=\"//tpc.googlesyndication.com\"\n",
      "href=\"//pagead2.googlesyndication.com\"\n",
      "href=\"//www.googletagservices.com\"\n",
      "href=\"//partner.googleadservices.com\"\n",
      "href=\"//www.google.com\"\n",
      "href=\"//aax.amazon-adsystem.com\"\n",
      "href=\"//c.amazon-adsystem.com\"\n",
      "href=\"//cdn.krxd.net\"\n",
      "href=\"//bidder.criteo.com\"\n",
      "href=\"//static.criteo.net\"\n",
      "href=\"//rtax.criteo.com\"\n",
      "href=\"http://segment-data-us-east.zqtk.net/turner-47fcf6\"\n",
      "href=\"//ads.rubiconproject.com\"\n",
      "href=\"//optimized-by.rubiconproject.com\"\n",
      "href=\"//fastlane.rubiconproject.com\"\n",
      "href=\"//fastlane-adv.rubiconproject.com\"\n",
      "href=\"//static.yieldmo.com\"\n",
      "href=\"//w.usabilla.com\"\n",
      "href=\"//s.skimresources.com/js/87732X1540624.skimlinks.js\"\n",
      "href=\"\"\n",
      "href=\"//data.api.cnn.io\"\n",
      "href=\"//pmd.cdn.turner.com\"\n",
      "href=\"//ht.cdn.turner.com\"\n",
      "href=\"//www.ugdturner.com\"\n",
      "href=\"//vrt.outbrain.com\"\n",
      "href=\"//consent.truste.com\"\n",
      "href=\"//as.casalemedia.com\"\n",
      "href=\"//as-sec.casalemedia.com\"\n",
      "href=\"//dsum-sec.casalemedia.com\"\n",
      "href=\"//js-sec.indexww.com\"\n",
      "href=\"//data.cnn.com\"\n",
      "href=\"//cdn.cnn.com\"\n",
      "href=\"//www.i.cdn.cnn.com\"\n",
      "href=\"https://www.cnn.com/css/2.75.8/global.css\"\n",
      "href=\"https://www.cnn.com/css/2.75.8/pages/page.css\"\n",
      "href=\\\"\n",
      "href=\\\"\n",
      "href=\\\"\n",
      "href=\\\"\n",
      "href=\\\"\n",
      "href=\"/\"\n",
      "href=\"/\"\n",
      "href=\"/us\"\n",
      "href=\"/world\"\n",
      "href=\"/politics\"\n",
      "href=\"http://money.cnn.com\"\n",
      "href=\"/opinions\"\n",
      "href=\"/health\"\n",
      "href=\"/entertainment\"\n",
      "href=\"http://money.cnn.com/technology\"\n",
      "href=\"/style\"\n",
      "href=\"/travel\"\n",
      "href=\"http://bleacherreport.com\"\n",
      "href=\"/videos\"\n",
      "href=\"/vr\"\n",
      "href=\"http://cnn.it/go2\"\n",
      "href=\"/\"\n",
      "href=\"/us\"\n",
      "href=\"/specials/us/crime-and-justice\"\n",
      "href=\"/specials/us/energy-and-environment\"\n",
      "href=\"/specials/us/extreme-weather\"\n",
      "href=\"/specials/space-science\"\n",
      "href=\"/world\"\n",
      "href=\"/africa\"\n",
      "href=\"/americas\"\n",
      "href=\"/asia\"\n",
      "href=\"/europe\"\n",
      "href=\"/middle-east\"\n",
      "href=\"/politics\"\n",
      "href=\"/specials/politics/president-donald-trump-45\"\n",
      "href=\"/specials/politics/congress-capitol-hill\"\n",
      "href=\"/specials/politics/us-security\"\n",
      "href=\"/specials/politics/supreme-court-nine\"\n",
      "href=\"/specials/politics/trumpmerica\"\n",
      "href=\"/election\"\n",
      "href=\"http://money.cnn.com\"\n",
      "href=\"http://money.cnn.com/data/markets/\"\n",
      "href=\"http://money.cnn.com/technology/\"\n",
      "href=\"http://money.cnn.com/media/\"\n",
      "href=\"http://money.cnn.com/pf/\"\n",
      "href=\"http://money.cnn.com/luxury/\"\n",
      "href=\"/opinions\"\n",
      "href=\"/specials/opinion/opinion-politics\"\n",
      "href=\"/specials/opinion/opinion-social-issues\"\n",
      "href=\"/health\"\n",
      "href=\"/specials/health/food-diet\"\n",
      "href=\"/specials/health/fitness-excercise\"\n",
      "href=\"/specials/health/wellness\"\n",
      "href=\"/specials/health/parenting\"\n",
      "href=\"/specials/health/vital-signs\"\n",
      "href=\"/entertainment\"\n",
      "href=\"/entertainment/celebrities\"\n",
      "href=\"/entertainment/movies\"\n",
      "href=\"/entertainment/tv-shows\"\n",
      "href=\"/entertainment/culture\"\n",
      "href=\"http://money.cnn.com/media\"\n",
      "href=\"http://money.cnn.com/technology\"\n",
      "href=\"http://money.cnn.com/technology/business\"\n",
      "href=\"http://money.cnn.com/technology/culture\"\n",
      "href=\"http://money.cnn.com/technology/gadgets\"\n",
      "href=\"http://money.cnn.com/technology/future\"\n",
      "href=\"http://money.cnn.com/technology/startups\"\n",
      "href=\"/style\"\n",
      "href=\"/style/arts\"\n",
      "href=\"/style/design\"\n",
      "href=\"/style/fashion\"\n",
      "href=\"/style/architecture\"\n",
      "href=\"/style/luxury\"\n",
      "href=\"/style/autos\"\n",
      "href=\"/style/videos\"\n",
      "href=\"/travel\"\n",
      "href=\"/travel/destinations\"\n",
      "href=\"/travel/food-and-drink\"\n",
      "href=\"/travel/play\"\n",
      "href=\"/travel/stay\"\n",
      "href=\"/travel/videos\"\n",
      "href=\"http://bleacherreport.com\"\n",
      "href=\"http://bleacherreport.com/nfl\"\n",
      "href=\"http://bleacherreport.com/college-football\"\n",
      "href=\"http://bleacherreport.com/nba\"\n",
      "href=\"http://bleacherreport.com/mlb\"\n",
      "href=\"http://bleacherreport.com/world-football\"\n",
      "href=\"/specials/sport/winter-olympics-2018\"\n",
      "href=\"/videos\"\n",
      "href=\"//cnn.it/go2\"\n",
      "href=\"/specials/digital-studios\"\n",
      "href=\"/specials/videos/digital-shorts\"\n",
      "href=\"/specials/videos/hln\"\n",
      "href=\"/tv/schedule/cnn\"\n",
      "href=\"/specials/tv/all-shows\"\n",
      "href=\"/vr\"\n",
      "href=\"//store.cnn.com/?utm_source=cnn.com&utm_medium=referral&utm_campaign=navbar\"\n",
      "href=\"/cnn-underscored/\"\n",
      "href=\"/specials/cnn-underscored/explore/\"\n",
      "href=\"/specials/cnn-underscored/wellness/\"\n",
      "href=\"/specials/cnn-underscored/gadgets/\"\n",
      "href=\"/specials/cnn-underscored/lifestyle/\"\n",
      "href=\"//store.cnn.com/?utm_source=cnn.com&utm_medium=referral&utm_campaign=navbar\"\n",
      "href=\"/vr\"\n",
      "href=\"/2017/03/04/vr/how-to-watch-vr\"\n",
      "href=\"/specials/vr/vr-archives\"\n",
      "href=\"/more\"\n",
      "href=\"/specials/photos\"\n",
      "href=\"/specials/cnn-longform\"\n",
      "href=\"/specials/cnn-investigations\"\n",
      "href=\"/specials/profiles\"\n",
      "href=\"/specials/more/cnn-leadership\"\n",
      "href=\"/email/subscription\"\n",
      "href=\"https://www.turnerjobs.com/search-jobs?orgIds=1174&ac=19299\"\n",
      "href=\"https://www.facebook.com/cnn\"\n",
      "href=\"https://twitter.com/cnn\"\n",
      "href=\"https://instagram.com/cnn\"\n",
      "href=\\\"\n",
      "href=\\\"\n",
      "href=\\\"\n",
      "href=\\\"\n",
      "href=\\\"\n",
      "href=\\\"\n",
      "href=\\\"\n",
      "href=\\\"\n",
      "href=\"/\"\n",
      "href=\"/us\"\n",
      "href=\"/specials/us/crime-and-justice\"\n",
      "href=\"/specials/us/energy-and-environment\"\n",
      "href=\"/specials/us/extreme-weather\"\n",
      "href=\"/specials/space-science\"\n",
      "href=\"/world\"\n",
      "href=\"/africa\"\n",
      "href=\"/americas\"\n",
      "href=\"/asia\"\n",
      "href=\"/europe\"\n",
      "href=\"/middle-east\"\n",
      "href=\"/politics\"\n",
      "href=\"/specials/politics/president-donald-trump-45\"\n",
      "href=\"/specials/politics/congress-capitol-hill\"\n",
      "href=\"/specials/politics/us-security\"\n",
      "href=\"/specials/politics/supreme-court-nine\"\n",
      "href=\"/specials/politics/trumpmerica\"\n",
      "href=\"/election\"\n",
      "href=\"http://money.cnn.com\"\n",
      "href=\"http://money.cnn.com/data/markets/\"\n",
      "href=\"http://money.cnn.com/technology/\"\n",
      "href=\"http://money.cnn.com/media/\"\n",
      "href=\"http://money.cnn.com/pf/\"\n",
      "href=\"http://money.cnn.com/luxury/\"\n",
      "href=\"/opinions\"\n",
      "href=\"/specials/opinion/opinion-politics\"\n",
      "href=\"/specials/opinion/opinion-social-issues\"\n",
      "href=\"/health\"\n",
      "href=\"/specials/health/food-diet\"\n",
      "href=\"/specials/health/fitness-excercise\"\n",
      "href=\"/specials/health/wellness\"\n",
      "href=\"/specials/health/parenting\"\n",
      "href=\"/specials/health/vital-signs\"\n",
      "href=\"/entertainment\"\n",
      "href=\"/entertainment/celebrities\"\n",
      "href=\"/entertainment/movies\"\n",
      "href=\"/entertainment/tv-shows\"\n",
      "href=\"/entertainment/culture\"\n",
      "href=\"http://money.cnn.com/media\"\n",
      "href=\"http://money.cnn.com/technology\"\n",
      "href=\"http://money.cnn.com/technology/business\"\n",
      "href=\"http://money.cnn.com/technology/culture\"\n",
      "href=\"http://money.cnn.com/technology/gadgets\"\n",
      "href=\"http://money.cnn.com/technology/future\"\n",
      "href=\"http://money.cnn.com/technology/startups\"\n",
      "href=\"/style\"\n",
      "href=\"/style/arts\"\n",
      "href=\"/style/design\"\n",
      "href=\"/style/fashion\"\n",
      "href=\"/style/architecture\"\n",
      "href=\"/style/luxury\"\n",
      "href=\"/style/autos\"\n",
      "href=\"/style/videos\"\n",
      "href=\"/travel\"\n",
      "href=\"/travel/destinations\"\n",
      "href=\"/travel/food-and-drink\"\n",
      "href=\"/travel/play\"\n",
      "href=\"/travel/stay\"\n",
      "href=\"/travel/videos\"\n",
      "href=\"http://bleacherreport.com\"\n",
      "href=\"http://bleacherreport.com/nfl\"\n",
      "href=\"http://bleacherreport.com/college-football\"\n",
      "href=\"http://bleacherreport.com/nba\"\n",
      "href=\"http://bleacherreport.com/mlb\"\n",
      "href=\"http://bleacherreport.com/world-football\"\n",
      "href=\"/specials/sport/winter-olympics-2018\"\n",
      "href=\"/videos\"\n",
      "href=\"//cnn.it/go2\"\n",
      "href=\"/specials/digital-studios\"\n",
      "href=\"/specials/videos/digital-shorts\"\n",
      "href=\"/specials/videos/hln\"\n",
      "href=\"/tv/schedule/cnn\"\n",
      "href=\"/specials/tv/all-shows\"\n",
      "href=\"/vr\"\n",
      "href=\"//store.cnn.com/?utm_source=cnn.com&amp;utm_medium=referral&amp;utm_campaign=navbar\"\n",
      "href=\"/cnn-underscored/\"\n",
      "href=\"/specials/cnn-underscored/explore/\"\n",
      "href=\"/specials/cnn-underscored/wellness/\"\n",
      "href=\"/specials/cnn-underscored/gadgets/\"\n",
      "href=\"/specials/cnn-underscored/lifestyle/\"\n",
      "href=\"//store.cnn.com/?utm_source=cnn.com&amp;utm_medium=referral&amp;utm_campaign=navbar\"\n",
      "href=\"/vr\"\n",
      "href=\"/2017/03/04/vr/how-to-watch-vr\"\n",
      "href=\"/specials/vr/vr-archives\"\n",
      "href=\"/more\"\n",
      "href=\"/specials/photos\"\n",
      "href=\"/specials/cnn-longform\"\n",
      "href=\"/specials/cnn-investigations\"\n",
      "href=\"/specials/profiles\"\n",
      "href=\"/specials/more/cnn-leadership\"\n",
      "href=\"/email/subscription\"\n",
      "href=\"https://www.turnerjobs.com/search-jobs?orgIds=1174&amp;ac=19299\"\n",
      "href=\"/\"\n",
      "href=\"http://www.turner.com\"\n",
      "href=\"/terms\"\n",
      "href=\"/privacy\"\n",
      "href=\"/accessibility\"\n",
      "href=\"#\"\n",
      "href=\"/about\"\n",
      "href=\"//tours.cnn.com\"\n",
      "href=\"//store.cnn.com\"\n",
      "href=\"/newsletters\"\n",
      "href=\"/transcripts\"\n",
      "href=\"/collection\"\n",
      "href=\"http://cnnnewsource.com\"\n",
      "href=\"//cdn.cnn.com/cnn/.e/img/3.0/global/misc/cnn-logo.png\"\n"
     ]
    }
   ],
   "source": [
    "### YOUR CODE GOES BELOW\n",
    "\n",
    "import urllib2\n",
    "import re\n",
    "\n",
    "f = urllib2.urlopen('http://www.cnn.com/')      # Retrive the URL\n",
    "\n",
    "http = re.findall(r'(href=\"?\\S+)', f.read())    # Read the content starting with \"href=\" to a List\n",
    "\n",
    "for i in range(0, len(http)): \n",
    "    end = http[i].index('\"', 6, len(http[i]))   # Only pick the useful URL between the 2 double quote\n",
    "    print http[i][:end+1]\n",
    "\n",
    "### END CODE"
   ]
  },
  {
   "cell_type": "markdown",
   "metadata": {},
   "source": [
    "#### Exercise 8\n",
    "\n",
    "Write a Python program to use the Twitter library tweepy to retrieve a set of tweets from the internet.\n",
    "\n",
    "More information on how to do this can be found here\n",
    "\n",
    "http://docs.tweepy.org/en/v3.5.0/"
   ]
  },
  {
   "cell_type": "code",
   "execution_count": 23,
   "metadata": {},
   "outputs": [
    {
     "name": "stdout",
     "output_type": "stream",
     "text": [
      "RT @bootstraplabs: There’s currently no credible path to a self-conscious #AI - @RichardSocher #AAI18 https://t.co/w6x8CT512i\n",
      "RT @BernardSlede: “#AI is only as good as the #data that you feed it” - @RichardSocher @#AAI18 @bootstraplabs @BenLevy74 https://t.co/ZkpFk…\n",
      "This is one reason to do more work on adversarial examples in domains other than images. For images most points in… https://t.co/c5DjTPHqNQ\n",
      "Learn how your organization can leverage real-time streaming analytics to capitalize on time-sensitive opportunitie… https://t.co/SETHgQvBHp\n",
      "RT @bsaeta: Slides from my talk Training Performance (@TensorFlow 2018 #TFDevSummit - https://t.co/2RVplrlNXq) are now available at https:/…\n",
      "RT @plusepsilon: Great talk from @adjiboussodieng at Stanford NLP seminar. Adding random noise to RNN boosts generalization. https://t.co/7…\n",
      "Ecole Polytechnique is organizing a Data Science summer School, June 25-29. \n",
      "\n",
      "I'll be giving a tutorial on Deep Lea… https://t.co/yX2YBJ8dcQ\n",
      "Meet Megan Kacholia, Engineering Director on the Google Brain team. Watch as she discusses the impactful ways Tenso… https://t.co/fmYZnhaNp9\n",
      "RT @ai4allorg: Congratulations to 5 of our alums who were selected as 2018 @sheplusplus #Include Fellows! Here's a glimpse of our alums at…\n",
      "RT @ai4allorg: Check out our 2016 alum, Jocelin, featured on @nvidia @NvidiaAI's blog today! Jocelin and 7 of her AI4ALL peers attended #GT…\n",
      "Prof. Michael Jordan will be joining us on the keynote stage. Register today to see him and the 180+ plus session t… https://t.co/N6K8r0yOL3\n",
      "Accelerate data-driven innovation and check out our many features, such as #MachineLearning, with your Azure free a… https://t.co/0ierPsxL5n\n",
      "The main downside of this definition: it's not a formal definition\n",
      "It isn't specific to classification; RL agents, generative models, autoencoders etc. all make different kinds of \"m… https://t.co/pmxH7KGOEW\n",
      "It doesn't invoke a human as a source of ground truth\n",
      "It doesn't reference the idea of imperceptibility at all\n",
      "It doesn't imply that the samples are out-of-distribution; \"design\" can just mean harvesting test set mistakes\n",
      "It isn't specific to making small changes\n",
      "It isn't specific to computer vision at all; you could use it NLP, malware, etc.\n",
      "The definition of \"adversarial examples\" I prefer these days is \"Adversarial examples are inputs to machine learnin… https://t.co/UW3Hu1Z7m0\n"
     ]
    }
   ],
   "source": [
    "### YOUR CODE GOES BELOW\n",
    "import tweepy\n",
    "\n",
    "access_token = \"4201552152-YAjpGTU4wpd9QUp3UsclNAJkf09Fx9jOxVjKeWl\"\n",
    "access_token_secret = \"XZHehRkmksrudT0Gwk4RB10PoXIbB2QT9hWe6qyAzBksz\"\n",
    "consumer_key = \"NUUHAt9aOhRj0Q6I20ahZcMUt\"\n",
    "consumer_secret = \"b4RhOtCtS13fYMIHLW4EgOA5qJPFcLCtLODlA2W06s74g3d4wt\"\n",
    "\n",
    "auth = tweepy.OAuthHandler(consumer_key, consumer_secret)\n",
    "auth.set_access_token(access_token, access_token_secret)\n",
    "\n",
    "api = tweepy.API(auth)\n",
    "\n",
    "public_tweets = api.home_timeline()\n",
    "for tweet in public_tweets:\n",
    "    print tweet.text\n",
    "\n",
    "### END CODE"
   ]
  },
  {
   "cell_type": "markdown",
   "metadata": {
    "collapsed": true
   },
   "source": [
    "#### Exercise 9 - Python program with multiple modules to sort a list of numbers\n",
    "\n",
    "Write a Python program to sort a list of numbers in ascending order. Your Python program must have a function called **sortNumbers** that is placed in a separate module called **sorthelper.py**. This function **sortNumbers** accepts a **list** of numbers. Your main program, which is also a standalone Python program **main.py** must import **sorthelper.py** and use this module to sort the numbers. \n",
    "\n",
    "The numbers to be sorted must be passed via the command line using argparse.\n",
    "\n",
    "Here is an example of how your program would be invoked assuming the numbers to be sorted are 5 4 3 and 8\n",
    "\n",
    "**python main.py 5 4 3 8**"
   ]
  },
  {
   "cell_type": "code",
   "execution_count": 24,
   "metadata": {},
   "outputs": [
    {
     "name": "stdout",
     "output_type": "stream",
     "text": [
      "Overwriting sorthelper.py\n"
     ]
    }
   ],
   "source": [
    "%%writefile sorthelper.py\n",
    "\n",
    "def sortNumbers(l):\n",
    "    return sorted(l, reverse=True)\n",
    "\n",
    "if __name__ == \"__main__\":\n",
    "    print sortNumbers([3, 5, 7, 2, 9, 1])\n",
    "\n",
    "\n",
    "### END CODE"
   ]
  },
  {
   "cell_type": "code",
   "execution_count": 25,
   "metadata": {},
   "outputs": [
    {
     "name": "stdout",
     "output_type": "stream",
     "text": [
      "[9, 7, 5, 3, 2, 1]\n"
     ]
    }
   ],
   "source": [
    "!python sorthelper.py"
   ]
  },
  {
   "cell_type": "code",
   "execution_count": 26,
   "metadata": {},
   "outputs": [
    {
     "name": "stdout",
     "output_type": "stream",
     "text": [
      "Overwriting main.py\n"
     ]
    }
   ],
   "source": [
    "%%writefile main.py\n",
    "\n",
    "import sys\n",
    "from sorthelper import sortNumbers\n",
    "\n",
    "if __name__ == \"__main__\":\n",
    "    l1 = []\n",
    "    total = len(sys.argv)\n",
    "    if total < 2:\n",
    "        print \"Please enter at least 1 argument. Try again!\" # Make sure there is at least 1 parameter   \n",
    "    else:\n",
    "        for i in range(1, total):\n",
    "            try:\n",
    "                l1.append(int(sys.argv[i]))                  # Form a List\n",
    "            except:\n",
    "                print \"You must use Integer. Please try again!\" # If input is not an Integer, then exit\n",
    "                exit()\n",
    "            \n",
    "        print \"Your input is: \", l1\n",
    "        print \"Your output is: \", sortNumbers(l1)\n"
   ]
  },
  {
   "cell_type": "code",
   "execution_count": 27,
   "metadata": {},
   "outputs": [
    {
     "name": "stdout",
     "output_type": "stream",
     "text": [
      "Please enter at least 1 argument. Try again!\n"
     ]
    }
   ],
   "source": [
    "!python main.py"
   ]
  },
  {
   "cell_type": "code",
   "execution_count": 28,
   "metadata": {},
   "outputs": [
    {
     "name": "stdout",
     "output_type": "stream",
     "text": [
      "You must use Integer. Please try again!\n"
     ]
    }
   ],
   "source": [
    "!python main.py 3 15 7 2 abc 29 -3 -1 8 x"
   ]
  },
  {
   "cell_type": "code",
   "execution_count": 29,
   "metadata": {},
   "outputs": [
    {
     "name": "stdout",
     "output_type": "stream",
     "text": [
      "Your input is:  [3, 15, 7, 2, 29, -3, -1, 8, -2]\n",
      "Your output is:  [29, 15, 8, 7, 3, 2, -1, -2, -3]\n"
     ]
    }
   ],
   "source": [
    "!python main.py 3 15 7 2 29 -3 -1 8 -2"
   ]
  },
  {
   "cell_type": "code",
   "execution_count": null,
   "metadata": {
    "collapsed": true
   },
   "outputs": [],
   "source": []
  }
 ],
 "metadata": {
  "kernelspec": {
   "display_name": "Python 2",
   "language": "python",
   "name": "python2"
  },
  "language_info": {
   "codemirror_mode": {
    "name": "ipython",
    "version": 2
   },
   "file_extension": ".py",
   "mimetype": "text/x-python",
   "name": "python",
   "nbconvert_exporter": "python",
   "pygments_lexer": "ipython2",
   "version": "2.7.14"
  }
 },
 "nbformat": 4,
 "nbformat_minor": 2
}
