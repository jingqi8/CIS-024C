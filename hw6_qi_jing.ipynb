{
 "cells": [
  {
   "cell_type": "markdown",
   "metadata": {},
   "source": [
    "\n",
    "# CIS024C - Spring 2018 - Monday 5:30-9:25pm \n",
    "\n",
    "## Homework 6\n",
    "\n",
    "Homework 6 covers exercises that involve working with functions\n",
    "\n",
    "The below sites have some interesting and useful information on working with files\n",
    "\n",
    "https://www.learnpython.org/en/Functions\n",
    "https://www.tutorialspoint.com/python/python_functions.htm\n",
    "\n",
    "You will need to download this notebook and use this as a starting point for your homework. You will just need to fill in the content of each code-block (cell) and execute. Once you have completed all the exercises, you will need to save and upload this to your github repository under a folder called hw5.\n",
    "\n",
    "Note also the exercises build on top of one another so you might be able to do the next exercise if you have not completed the previous exercise.\n",
    "\n",
    "Post any questions you have on our Slack at **cis-024c1.slack.com**\n",
    "\n",
    "** Slides ** for Week 6 can be found at \n",
    "\n",
    "https://docs.google.com/presentation/d/1XGV2NR0ZAAmQYjlRuy81zzlW2g5lWS8L6a7iRV-lreQ/edit?usp=sharing\n",
    "\n",
    "**Please refer back to hw1 and slack for instructions on how to setup your computer for developing using Python.**"
   ]
  },
  {
   "cell_type": "markdown",
   "metadata": {},
   "source": [
    "### Helpful Jupyter Commands\n",
    "\n",
    "Below are some useful commands to know when using Jupyter\n",
    "\n",
    "1. You can add a new cell by clicking on the \"+\" icon on top.\n",
    "2. You can delete a cell by selecting that cell and clicking on the \"scissors\" icon on top.\n",
    "3. You can execute a cell by either pressing shift+enter or selecting the \"play\" button on top.\n",
    "4. You can create a new file in Jupyter via the File menu->New Notebook option. Make sure to select Python 2 when creating your notebook.\n",
    "5. Also, for your code blocks make sure that Code is selected instead of another option like Markdown.\n",
    "6. Use the Enter key to go to the next line in a cell to enter the next statement.\n",
    "7. You can clear results by clicking on the Cell menu item and selecting Current Output->Clear or All Output->Clear depending on whether you are trying to just clear the output for one cell or for all cells.\n",
    "8. In case your program has crashed for some reason (infinite loop, for example), you can restart your Python session by select Kernel in the menu and selecting Restart.\n"
   ]
  },
  {
   "cell_type": "markdown",
   "metadata": {},
   "source": [
    "#### Check Python Version"
   ]
  },
  {
   "cell_type": "code",
   "execution_count": 1,
   "metadata": {},
   "outputs": [
    {
     "name": "stderr",
     "output_type": "stream",
     "text": [
      "Python 2.7.14 :: Anaconda, Inc.\n"
     ]
    }
   ],
   "source": [
    "!python --version"
   ]
  },
  {
   "cell_type": "markdown",
   "metadata": {},
   "source": [
    "#### Sample Exercises with Functions\n",
    "\n",
    "Refer to Week 6 slides for a recap of what happened in Week 6\n",
    "\n",
    "https://docs.google.com/presentation/d/1XGV2NR0ZAAmQYjlRuy81zzlW2g5lWS8L6a7iRV-lreQ/edit?usp=sharing"
   ]
  },
  {
   "cell_type": "markdown",
   "metadata": {},
   "source": [
    "**Exercise 1 - Testing your knowledge of functions **\n",
    "\n",
    "Answer the below questions\n",
    "\n",
    "1. What is a function in Python?\n",
    "2. What are the advantages of using functions?"
   ]
  },
  {
   "cell_type": "raw",
   "metadata": {},
   "source": [
    "1. A function is a block of organized, reusable code that is used to perform a single, related and specific action. Functions provide better modularity for an application and a high degree of code reusing.\n",
    "\n",
    "2. The benefit to use a Function is: Reducing duplication of code, decomposing complex problems into simpler pieces, improving clarity of the code and resuing the code. \n"
   ]
  },
  {
   "cell_type": "markdown",
   "metadata": {},
   "source": [
    "#### Exercise 2 -  Max of three numbers\n",
    "\n",
    "Write a Python function to find the Max of three numbers.\n",
    "\n",
    "Make sure you invoke this function in your main program and display the result"
   ]
  },
  {
   "cell_type": "code",
   "execution_count": 119,
   "metadata": {},
   "outputs": [
    {
     "name": "stdout",
     "output_type": "stream",
     "text": [
      "The Max Number is: 89\n",
      "The Max Number is: -77.96\n",
      "The Max Number is: You must provide an Integer or a Float\n"
     ]
    }
   ],
   "source": [
    "### YOUR CODE GOES \n",
    "\n",
    "def max_three(n1=-99999.9, n2=-99999.9, n3=-99999.9):\n",
    "    for x in (n1, n2, n3):\n",
    "        if type(x) not in (int, float):\n",
    "            return \"You must provide an Integer or a Float\"\n",
    "            return -1\n",
    "            \n",
    "    return max(n1, n2, n3)\n",
    "\n",
    "print \"The Max Number is:\", max_three(30, 20, 89)\n",
    "\n",
    "print \"The Max Number is:\", max_three(-304.23, -77.96)\n",
    "\n",
    "print \"The Max Number is:\", max_three(22, 'a', 44)\n",
    "\n",
    "\n",
    "### END CODE"
   ]
  },
  {
   "cell_type": "markdown",
   "metadata": {},
   "source": [
    "#### Exercise 3 - Finding the sum of numbers in a list\n",
    "\n",
    "Write a Python function to sum all the numbers in a list\n",
    "\n",
    "Make sure you invoke this function in your main program and display the result"
   ]
  },
  {
   "cell_type": "code",
   "execution_count": 118,
   "metadata": {},
   "outputs": [
    {
     "name": "stdout",
     "output_type": "stream",
     "text": [
      "The sum of list [2, 3, -5, 7] is: 7\n",
      "The sum of list [2, 3, 'a', 7] is: You must provide an Integer or a Float in the List\n",
      "The sum of list [2, 4, 6, 8, 10]  is: 30\n"
     ]
    }
   ],
   "source": [
    "### YOUR CODE GOES BELOW\n",
    "def sum_list(aList):\n",
    "    for x in aList:\n",
    "        if type(x) not in (int, float):\n",
    "            return \"You must provide an Integer or a Float in the List\"\n",
    "            return -1\n",
    "        \n",
    "    return sum(aList)\n",
    "\n",
    "print \"The sum of list [2, 3, -5, 7] is:\", sum_list([2, 3, -5, 7])\n",
    "\n",
    "print \"The sum of list [2, 3, 'a', 7] is:\", sum_list([2, 3, 'a', 7])\n",
    "\n",
    "l1 = [2*i for i in range(1,6)]\n",
    "\n",
    "print \"The sum of list\", l1, \" is:\", sum_list(l1)\n",
    "    \n",
    "### END CODE"
   ]
  },
  {
   "cell_type": "markdown",
   "metadata": {},
   "source": [
    "#### Exercise 4 - Finding the product of numbers in a list\n",
    "\n",
    "Write a Python function to multiply all the numbers in a list\n",
    "\n",
    "Make sure you invoke this function in your main program and display the result"
   ]
  },
  {
   "cell_type": "code",
   "execution_count": 120,
   "metadata": {},
   "outputs": [
    {
     "name": "stdout",
     "output_type": "stream",
     "text": [
      "The product of list [2, 3, -5, 7] is: -210\n",
      "The sum of list [2, 3, 'a', 7] is: You must provide an Integer or a Float in the List\n",
      "The sum of list [2, 4, 6, 8, 10] is: 3840\n"
     ]
    }
   ],
   "source": [
    "### YOUR CODE GOES BELOW\n",
    "def product_list(aList):\n",
    "    result = 1\n",
    "    for x in aList:\n",
    "        if type(x) not in (int, float):\n",
    "            return \"You must provide an Integer or a Float in the List\"\n",
    "            \n",
    "        result = x*result    \n",
    "        \n",
    "    return result\n",
    "\n",
    "print \"The product of list [2, 3, -5, 7] is:\", product_list([2, 3, -5, 7])\n",
    "\n",
    "print \"The sum of list [2, 3, 'a', 7] is:\", product_list([2, 3, 'a', 7])\n",
    "\n",
    "l1 = [2*i for i in range(1,6)]\n",
    "\n",
    "print \"The sum of list\", l1, \"is:\", product_list(l1)\n",
    "    \n",
    "\n",
    "### END CODE"
   ]
  },
  {
   "cell_type": "markdown",
   "metadata": {},
   "source": [
    "#### Exercise 5 - Reversing a String\n",
    "\n",
    "Write a Python function to reverse a string\n",
    "\n",
    "Make sure you invoke this function in your main program and display the result"
   ]
  },
  {
   "cell_type": "code",
   "execution_count": 122,
   "metadata": {},
   "outputs": [
    {
     "name": "stdout",
     "output_type": "stream",
     "text": [
      "For: I love Python 2\n",
      "The Result is: 2 nohtyP evol I\n",
      "For: [33, 22]\n",
      "The Result is: You must provide a String!\n"
     ]
    }
   ],
   "source": [
    "### YOUR CODE GOES BELOW\n",
    "def reverse_string(str1):\n",
    "    if type(str1) != str:\n",
    "        return \"You must provide a String!\"\n",
    "            \n",
    "    str2=\"\"\n",
    "    for i in range(len(str1)-1, -1, -1):\n",
    "        str2 = str2 + str1[i]\n",
    "    \n",
    "    return str2\n",
    "\n",
    "s1 = \"I love Python 2\"\n",
    "print \"For:\", s1\n",
    "print \"The Result is:\", reverse_string(s1)\n",
    "\n",
    "s1 = [33, 22]\n",
    "print \"For:\", s1\n",
    "print \"The Result is:\", reverse_string(s1)\n",
    "\n",
    "\n",
    "### END CODE"
   ]
  },
  {
   "cell_type": "markdown",
   "metadata": {},
   "source": [
    "## OPTIONAL EXERCISES\n",
    "\n",
    "Below is a set of optional exercises. These will not be graded but the solutions will be posted. I would strongly encourage you to try these out if you are done with the mandatory homework exercises to improve your understanding of python."
   ]
  },
  {
   "cell_type": "markdown",
   "metadata": {},
   "source": [
    "#### Exercise 6\n",
    "\n",
    "Write a Python function that accepts a string and calculate the number of upper case letters and lower case letters.\n",
    "\n",
    "Make sure you invoke this function in your main program and display the result"
   ]
  },
  {
   "cell_type": "code",
   "execution_count": 124,
   "metadata": {},
   "outputs": [
    {
     "name": "stdout",
     "output_type": "stream",
     "text": [
      "Please Enter a String:John and McDonald!\n",
      "The total Uppder Letter are: 3\n",
      "The total Lower Letter are: 12\n",
      "The total NO Letter are: 3\n"
     ]
    }
   ],
   "source": [
    "### YOUR CODE GOES BELOW\n",
    "import string\n",
    "\n",
    "def cal_char(str1):\n",
    "    if type(str1) != str:\n",
    "        return \"You must provide a String!\"\n",
    "            \n",
    "    dic={\"Upper\":0, \"Lower\":0, \"NA\":0}\n",
    "    for i in range(0, len(str1)):\n",
    "        if str1[i] in string.ascii_letters:\n",
    "            if str1[i] in string.uppercase:\n",
    "                dic[\"Upper\"] += 1\n",
    "            else:\n",
    "                dic[\"Lower\"] += 1\n",
    "        else:\n",
    "            dic[\"NA\"] += 1\n",
    "            \n",
    "    return dic\n",
    "\n",
    "str1 = raw_input(\"Please Enter a String:\")\n",
    "result = cal_char(str1)\n",
    "\n",
    "print \"The total Uppder Letter are:\", result[\"Upper\"]\n",
    "print \"The total Lower Letter are:\", result[\"Lower\"]\n",
    "print \"The total NO Letter are:\", result[\"NA\"]"
   ]
  },
  {
   "cell_type": "markdown",
   "metadata": {},
   "source": [
    "#### Exercise 7\n",
    "\n",
    " Write a Python function to print the even numbers from a given list..\n",
    " \n",
    " Make sure you invoke this function in your main program and display the result"
   ]
  },
  {
   "cell_type": "code",
   "execution_count": 126,
   "metadata": {},
   "outputs": [
    {
     "name": "stdout",
     "output_type": "stream",
     "text": [
      "For a List: [33, 66, 32.2, -15, 8, 'abc', 23, 44, -4]\n",
      "66 is an Even Number\n",
      "32.2 is not an Integer!\n",
      "8 is an Even Number\n",
      "abc is not an Integer!\n",
      "44 is an Even Number\n",
      "-4 is an Even Number\n",
      "Done!\n"
     ]
    }
   ],
   "source": [
    "### YOUR CODE GOES BELOW\n",
    "def even_number(aList):\n",
    "    for n in aList:\n",
    "        if type(n) != int:\n",
    "            print \"%s is not an Integer!\" % (n)\n",
    "        else:\n",
    "            if n % 2 == 0:\n",
    "                print \"%s is an Even Number\" % (n)\n",
    "            \n",
    "    return \"Done!\"\n",
    "\n",
    "s1 = [33, 66, 32.2, -15, 8, \"abc\", 23, 44, -4]\n",
    "print \"For a List:\", s1\n",
    "print even_number(s1)\n",
    "\n",
    "### END CODE"
   ]
  },
  {
   "cell_type": "markdown",
   "metadata": {},
   "source": [
    "#### Exercise 8\n",
    "\n",
    "Write a Python function that checks whether a passed string is palindrome or not.\n",
    "\n",
    "Make sure you invoke this function in your main program and display the result"
   ]
  },
  {
   "cell_type": "code",
   "execution_count": 129,
   "metadata": {},
   "outputs": [
    {
     "name": "stdout",
     "output_type": "stream",
     "text": [
      "Check: 'A man, a plan, a canal, Panama!'\n",
      "Yes, it's palindrome! \n",
      "\n",
      "Check: 'A woman, a plan, a canal, Panama!'\n",
      "Oops, it's NOT palindrome! \n",
      "\n",
      "Check: 'Was it a car or a cat I saw?'\n",
      "Yes, it's palindrome! \n",
      "\n",
      "Check: '88 123 3 218 8'\n",
      "Yes, it's palindrome! \n",
      "\n",
      "Check: 'No 'x' in Nixon'\n",
      "Yes, it's palindrome! \n",
      "\n",
      "Check: 'I love Python'\n",
      "Oops, it's NOT palindrome! \n",
      "\n",
      "Check: '[23, 'abc', 23]'\n",
      "Please input a String! \n",
      "\n"
     ]
    }
   ],
   "source": [
    "### YOUR CODE GOES BELOW\n",
    "def check_palindrome(str1):\n",
    "    if type(str1) != str:\n",
    "        return \"Please input a String!\"\n",
    "                \n",
    "    whitelist = set('abcdefghijklmnopqrstuvwxyzABCDEFGHIJKLMNOPQRSTUVWXYZ0123456789') # Only keep those ASCII\n",
    "    str1 = ''.join(filter(whitelist.__contains__, str1))\n",
    "    str1 = str1.lower() # Convert all to lower case\n",
    "    \n",
    "    length = len(str1)\n",
    "    for i in range(0, length/2):    # We just need to compare the a half string with another half\n",
    "        if str1[i] != str1[length-1-i]:\n",
    "            return \"Oops, it's NOT palindrome!\"\n",
    "                    \n",
    "    return \"Yes, it's palindrome!\"\n",
    "   \n",
    "\n",
    "s1 = \"A man, a plan, a canal, Panama!\"\n",
    "print \"Check: '%s'\" % (s1)\n",
    "print check_palindrome(s1), \"\\n\"\n",
    "\n",
    "s1 = \"A woman, a plan, a canal, Panama!\"\n",
    "print \"Check: '%s'\" % (s1)\n",
    "print check_palindrome(s1), \"\\n\"\n",
    "\n",
    "s1 = \"Was it a car or a cat I saw?\"\n",
    "print \"Check: '%s'\" % (s1)\n",
    "print check_palindrome(s1), \"\\n\"\n",
    "\n",
    "s1 = \"88 123 3 218 8\"\n",
    "print \"Check: '%s'\" % (s1)\n",
    "print check_palindrome(s1), \"\\n\"\n",
    "\n",
    "s1 = \"No 'x' in Nixon\"\n",
    "print \"Check: '%s'\" % (s1)\n",
    "print check_palindrome(s1), \"\\n\"\n",
    "\n",
    "s1 = \"I love Python\"\n",
    "print \"Check: '%s'\" % (s1)\n",
    "print check_palindrome(s1), \"\\n\"\n",
    "\n",
    "s1 = [23, \"abc\", 23]\n",
    "print \"Check: '%s'\" % (s1)\n",
    "print check_palindrome(s1), \"\\n\"\n",
    "### END CODE"
   ]
  },
  {
   "cell_type": "markdown",
   "metadata": {
    "collapsed": true
   },
   "source": [
    "#### Exercise 9\n",
    "\n",
    "Write a recursive Python program to compute the fibonnaci number for a given index.\n",
    "\n",
    "This is what a fibonacci series is https://www.mathsisfun.com/numbers/fibonacci-sequence.html\n",
    "\n",
    "Make sure you invoke this function in your main program and display the result"
   ]
  },
  {
   "cell_type": "code",
   "execution_count": 172,
   "metadata": {},
   "outputs": [
    {
     "name": "stdout",
     "output_type": "stream",
     "text": [
      "Enter an Index:10\n",
      " 0 1 1 2 3 5 8 13 21 34\n"
     ]
    }
   ],
   "source": [
    "### YOUR CODE GOES BELOW\n",
    "def fibonnac(n):\n",
    "    if n == 0:\n",
    "        return 0\n",
    "    if n == 1:\n",
    "        return 1\n",
    "    else:\n",
    "        return fibonnac(n-1) + fibonnac(n-2)\n",
    "\n",
    "\n",
    "ind = int(raw_input(\"Enter an Index:\"))\n",
    "\n",
    "str1 = \"\"\n",
    "for i in range(0, ind):\n",
    "    str1 = str1 + \" \" + str(fibonnac(i))\n",
    "\n",
    "print str1\n",
    "                      \n",
    "### END CODE"
   ]
  },
  {
   "cell_type": "markdown",
   "metadata": {},
   "source": [
    "#### Exercise 10\n",
    "\n",
    "Write a python program to autocorrect user input using the edit distance method. \n",
    "\n",
    "Make sure you invoke this function in your main program and display the result"
   ]
  },
  {
   "cell_type": "code",
   "execution_count": 2,
   "metadata": {},
   "outputs": [
    {
     "name": "stdout",
     "output_type": "stream",
     "text": [
      "Please Enter a Sentence separetd by Space ('Stop' to exit): or fmly hiking tomorr\n",
      "-------------------------------------------------\n",
      "our family hiking tomorrow\n",
      "-------------------------------------------------\n",
      "Please Enter a Sentence separetd by Space ('Stop' to exit): our faly wil ge hkin tomorrw\n",
      "-------------------------------------------------\n",
      "our family will go hiking tomorrow\n",
      "-------------------------------------------------\n",
      "Please Enter a Sentence separetd by Space ('Stop' to exit): hkin faml get\n",
      "-------------------------------------------------\n",
      "hiking family go\n",
      "-------------------------------------------------\n",
      "Please Enter a Sentence separetd by Space ('Stop' to exit): Stop\n"
     ]
    }
   ],
   "source": [
    "### YOUR CODE GOES BELOW\n",
    "\n",
    "from editdistance import eval\n",
    "\n",
    "def autocorrect(str1):\n",
    "    dic = [\"our\", \"family\", \"will\", \"go\", \"to\", \"hiking\", \"tomorrow\"] # Define a Good Dictionary\n",
    "    \n",
    "    sList = str1.strip().split()   # Split all words into a List\n",
    "\n",
    "    for i in range(0, len(sList)): # Evaluate each word from the List\n",
    "        if sList[i] in dic:        # First check if it's in the dictionary. If yes, no need to evaluate\n",
    "            continue\n",
    "\n",
    "        match_level = 10000        # Initiale the max match level\n",
    "        position = 0               # Initial the position in the good dictionary\n",
    "        for j in range(0, len(dic)): \n",
    "            eval_level = eval(sList[i], dic[j]) # Use edit distance to evaluate the 2 words\n",
    "            if eval_level < match_level:        # Determine the lowest Distance\n",
    "                match_level = eval_level\n",
    "                position = j                    # Current lowest distance position in the Dictionary    \n",
    "    \n",
    "        sList[i] = dic[position] # Replace from the dictionary \n",
    "        \n",
    "    str2 = \" \".join(sList)   # Form a string from the List\n",
    "    return str2\n",
    "\n",
    "str1 = \"\"\n",
    "while str1.lower() != 'stop':\n",
    "    str1 = raw_input(\"Please Enter a Sentence separetd by Space ('Stop' to exit): \")\n",
    "    \n",
    "    if str1.lower() == 'stop':\n",
    "        break\n",
    "\n",
    "    print \"-------------------------------------------------\"\n",
    "    print autocorrect(str1)\n",
    "    print \"-------------------------------------------------\"\n",
    "\n",
    "### END CODE"
   ]
  },
  {
   "cell_type": "code",
   "execution_count": null,
   "metadata": {
    "collapsed": true
   },
   "outputs": [],
   "source": []
  }
 ],
 "metadata": {
  "kernelspec": {
   "display_name": "Python 2",
   "language": "python",
   "name": "python2"
  },
  "language_info": {
   "codemirror_mode": {
    "name": "ipython",
    "version": 2
   },
   "file_extension": ".py",
   "mimetype": "text/x-python",
   "name": "python",
   "nbconvert_exporter": "python",
   "pygments_lexer": "ipython2",
   "version": "2.7.14"
  }
 },
 "nbformat": 4,
 "nbformat_minor": 2
}
